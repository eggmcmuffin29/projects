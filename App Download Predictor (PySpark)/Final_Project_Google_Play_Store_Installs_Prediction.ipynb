{
  "cells": [
    {
      "cell_type": "markdown",
      "metadata": {
        "id": "cypRE9oUCxVS"
      },
      "source": [
        "# Project: Google Play Store\n",
        "Link to the dataset: https://www.kaggle.com/datasets/lava18/google-play-store-apps\n",
        "\n",
        "In this project, we are tryting to build a prediction model to estimate the number of installs of an application on Google store. We are treating the data as a big data and\n",
        "\n"
      ],
      "id": "cypRE9oUCxVS"
    },
    {
      "cell_type": "markdown",
      "metadata": {
        "id": "Aek3ahKmAVJU"
      },
      "source": [
        "# Download and import all the libraries"
      ],
      "id": "Aek3ahKmAVJU"
    },
    {
      "cell_type": "code",
      "execution_count": 1,
      "metadata": {
        "id": "a1K6_JIeARtN"
      },
      "outputs": [],
      "source": [
        "! pip install pyspark >& /dev/null"
      ],
      "id": "a1K6_JIeARtN"
    },
    {
      "cell_type": "code",
      "execution_count": 2,
      "metadata": {
        "id": "02340cea"
      },
      "outputs": [],
      "source": [
        "#Pyspark\n",
        "from pyspark.sql import SparkSession\n",
        "\n",
        "from pyspark.sql.functions import regexp_replace\n",
        "from pyspark.sql.types import IntegerType\n",
        "import pyspark.sql.functions as F\n",
        "from pyspark.sql.types import DoubleType, IntegerType\n",
        "from pyspark.sql.functions import when, col,sum, isnan\n",
        "\n",
        "#Python\n",
        "import pandas as pd\n",
        "import numpy as np\n",
        "import seaborn as sns\n",
        "from sklearn.cluster import KMeans\n",
        "import matplotlib.pyplot as plt\n",
        "from google.colab import drive\n",
        "%matplotlib inline"
      ],
      "id": "02340cea"
    },
    {
      "cell_type": "code",
      "execution_count": 3,
      "metadata": {
        "id": "N5yM0ckiA1Fn"
      },
      "outputs": [],
      "source": [
        "# Create Spark Session and Spark Context\n",
        "spark = SparkSession.builder.appName('Google_play_project').getOrCreate()  #creating a spark environment\n",
        "sc = spark.sparkContext"
      ],
      "id": "N5yM0ckiA1Fn"
    },
    {
      "cell_type": "code",
      "execution_count": 4,
      "metadata": {
        "id": "1Qw9N4nOG83Z",
        "colab": {
          "base_uri": "https://localhost:8080/"
        },
        "outputId": "65352393-48f9-4978-9a17-3d2b577925e4"
      },
      "outputs": [
        {
          "output_type": "stream",
          "name": "stdout",
          "text": [
            "Drive already mounted at /content/drive; to attempt to forcibly remount, call drive.mount(\"/content/drive\", force_remount=True).\n",
            "+--------------------+--------------+------+-------+----+-----------+----+-----+--------------+--------------------+------------+------------------+------------+----+\n",
            "|                 App|      Category|Rating|Reviews|Size|   Installs|Type|Price|Content Rating|              Genres|Last Updated|       Current Ver| Android Ver|_c13|\n",
            "+--------------------+--------------+------+-------+----+-----------+----+-----+--------------+--------------------+------------+------------------+------------+----+\n",
            "|Photo Editor & Ca...|ART_AND_DESIGN|   4.1|    159| 19M|    10,000+|Free|    0|      Everyone|        Art & Design|    7-Jan-18|             1.0.0|4.0.3 and up|NULL|\n",
            "| Coloring book moana|ART_AND_DESIGN|   3.9|    967| 14M|   500,000+|Free|    0|      Everyone|Art & Design;Pret...|   15-Jan-18|             2.0.0|4.0.3 and up|NULL|\n",
            "|U Launcher Lite –...|ART_AND_DESIGN|   4.7|  87510|8.7M| 5,000,000+|Free|    0|      Everyone|        Art & Design|    1-Aug-18|             1.2.4|4.0.3 and up|NULL|\n",
            "|Sketch - Draw & P...|ART_AND_DESIGN|   4.5| 215644| 25M|50,000,000+|Free|    0|          Teen|        Art & Design|    8-Jun-18|Varies with device|  4.2 and up|NULL|\n",
            "|Pixel Draw - Numb...|ART_AND_DESIGN|   4.3|    967|2.8M|   100,000+|Free|    0|      Everyone|Art & Design;Crea...|   20-Jun-18|               1.1|  4.4 and up|NULL|\n",
            "|Paper flowers ins...|ART_AND_DESIGN|   4.4|    167|5.6M|    50,000+|Free|    0|      Everyone|        Art & Design|   26-Mar-17|                 1|  2.3 and up|NULL|\n",
            "|Smoke Effect Phot...|ART_AND_DESIGN|   3.8|    178| 19M|    50,000+|Free|    0|      Everyone|        Art & Design|   26-Apr-18|               1.1|4.0.3 and up|NULL|\n",
            "|    Infinite Painter|ART_AND_DESIGN|   4.1|  36815| 29M| 1,000,000+|Free|    0|      Everyone|        Art & Design|   14-Jun-18|          6.1.61.1|  4.2 and up|NULL|\n",
            "|Garden Coloring Book|ART_AND_DESIGN|   4.4|  13791| 33M| 1,000,000+|Free|    0|      Everyone|        Art & Design|   20-Sep-17|             2.9.2|  3.0 and up|NULL|\n",
            "|Kids Paint Free -...|ART_AND_DESIGN|   4.7|    121|3.1M|    10,000+|Free|    0|      Everyone|Art & Design;Crea...|    3-Jul-18|               2.8|4.0.3 and up|NULL|\n",
            "|Text on Photo - F...|ART_AND_DESIGN|   4.4|  13880| 28M| 1,000,000+|Free|    0|      Everyone|        Art & Design|   27-Oct-17|             1.0.4|  4.1 and up|NULL|\n",
            "|Name Art Photo Ed...|ART_AND_DESIGN|   4.4|   8788| 12M| 1,000,000+|Free|    0|      Everyone|        Art & Design|   31-Jul-18|            1.0.15|  4.0 and up|NULL|\n",
            "|Tattoo Name On My...|ART_AND_DESIGN|   4.2|  44829| 20M|10,000,000+|Free|    0|          Teen|        Art & Design|    2-Apr-18|               3.8|  4.1 and up|NULL|\n",
            "|Mandala Coloring ...|ART_AND_DESIGN|   4.6|   4326| 21M|   100,000+|Free|    0|      Everyone|        Art & Design|   26-Jun-18|             1.0.4|  4.4 and up|NULL|\n",
            "|3D Color Pixel by...|ART_AND_DESIGN|   4.4|   1518| 37M|   100,000+|Free|    0|      Everyone|        Art & Design|    3-Aug-18|             1.2.3|  2.3 and up|NULL|\n",
            "|Learn To Draw Kaw...|ART_AND_DESIGN|   3.2|     55|2.7M|     5,000+|Free|    0|      Everyone|        Art & Design|    6-Jun-18|               NaN|  4.2 and up|NULL|\n",
            "|Photo Designer - ...|ART_AND_DESIGN|   4.7|   3632|5.5M|   500,000+|Free|    0|      Everyone|        Art & Design|   31-Jul-18|               3.1|  4.1 and up|NULL|\n",
            "|350 Diy Room Deco...|ART_AND_DESIGN|   4.5|     27| 17M|    10,000+|Free|    0|      Everyone|        Art & Design|    7-Nov-17|                 1|  2.3 and up|NULL|\n",
            "|FlipaClip - Carto...|ART_AND_DESIGN|   4.3| 194216| 39M| 5,000,000+|Free|    0|      Everyone|        Art & Design|    3-Aug-18|             2.2.5|4.0.3 and up|NULL|\n",
            "|        ibis Paint X|ART_AND_DESIGN|   4.6| 224399| 31M|10,000,000+|Free|    0|      Everyone|        Art & Design|   30-Jul-18|             5.5.4|  4.1 and up|NULL|\n",
            "+--------------------+--------------+------+-------+----+-----------+----+-----+--------------+--------------------+------------+------------------+------------+----+\n",
            "only showing top 20 rows\n",
            "\n"
          ]
        }
      ],
      "source": [
        "from pyspark.sql import SparkSession\n",
        "\n",
        "# # Create a SparkSession\n",
        "# spark = SparkSession.builder.appName(\"ReadCSV\").getOrCreate()\n",
        "from google.colab import drive\n",
        "drive.mount('/content/drive')\n",
        "\n",
        "# Replace 'file_path' with the path to your CSV file\n",
        "file_path = '/content/drive/MyDrive/BDA IST 718/googleplaystore.csv'\n",
        "\n",
        "# Read the CSV file into a Spark DataFrame\n",
        "df = spark.read.csv(file_path, header=True, inferSchema=True)\n",
        "\n",
        "# Show the first few rows of the DataFrame\n",
        "df.show()\n"
      ],
      "id": "1Qw9N4nOG83Z"
    },
    {
      "cell_type": "code",
      "execution_count": 5,
      "metadata": {
        "id": "rsvp73EBB4rr"
      },
      "outputs": [],
      "source": [
        "# # mount the google drive and upload the csv file\n",
        "\n",
        "# drive.mount('/content/drive')\n",
        "\n",
        "# df = spark.read\\\n",
        "#     .option(\"header\", \"true\")\\\n",
        "#     .option(\"inferSchema\", \"true\")\\\n",
        "#     .csv(\"/content/drive/My Drive/googleplaystore.csv\") #specify the path here to where you store the csv"
      ],
      "id": "rsvp73EBB4rr"
    },
    {
      "cell_type": "markdown",
      "metadata": {
        "id": "mUWGH8xfCfK8"
      },
      "source": [
        "# Data Cleaning"
      ],
      "id": "mUWGH8xfCfK8"
    },
    {
      "cell_type": "code",
      "execution_count": 6,
      "metadata": {
        "id": "59160ad3",
        "colab": {
          "base_uri": "https://localhost:8080/"
        },
        "outputId": "b3803d03-ae5e-468d-852c-015d81d740e8"
      },
      "outputs": [
        {
          "output_type": "stream",
          "name": "stdout",
          "text": [
            "+--------------------+--------------+------+-------+----+-----------+----+-----+--------------+--------------------+------------+------------------+------------+----+\n",
            "|                 App|      Category|Rating|Reviews|Size|   Installs|Type|Price|Content Rating|              Genres|Last Updated|       Current Ver| Android Ver|_c13|\n",
            "+--------------------+--------------+------+-------+----+-----------+----+-----+--------------+--------------------+------------+------------------+------------+----+\n",
            "|Photo Editor & Ca...|ART_AND_DESIGN|   4.1|    159| 19M|    10,000+|Free|    0|      Everyone|        Art & Design|    7-Jan-18|             1.0.0|4.0.3 and up|NULL|\n",
            "| Coloring book moana|ART_AND_DESIGN|   3.9|    967| 14M|   500,000+|Free|    0|      Everyone|Art & Design;Pret...|   15-Jan-18|             2.0.0|4.0.3 and up|NULL|\n",
            "|U Launcher Lite –...|ART_AND_DESIGN|   4.7|  87510|8.7M| 5,000,000+|Free|    0|      Everyone|        Art & Design|    1-Aug-18|             1.2.4|4.0.3 and up|NULL|\n",
            "|Sketch - Draw & P...|ART_AND_DESIGN|   4.5| 215644| 25M|50,000,000+|Free|    0|          Teen|        Art & Design|    8-Jun-18|Varies with device|  4.2 and up|NULL|\n",
            "|Pixel Draw - Numb...|ART_AND_DESIGN|   4.3|    967|2.8M|   100,000+|Free|    0|      Everyone|Art & Design;Crea...|   20-Jun-18|               1.1|  4.4 and up|NULL|\n",
            "|Paper flowers ins...|ART_AND_DESIGN|   4.4|    167|5.6M|    50,000+|Free|    0|      Everyone|        Art & Design|   26-Mar-17|                 1|  2.3 and up|NULL|\n",
            "|Smoke Effect Phot...|ART_AND_DESIGN|   3.8|    178| 19M|    50,000+|Free|    0|      Everyone|        Art & Design|   26-Apr-18|               1.1|4.0.3 and up|NULL|\n",
            "|    Infinite Painter|ART_AND_DESIGN|   4.1|  36815| 29M| 1,000,000+|Free|    0|      Everyone|        Art & Design|   14-Jun-18|          6.1.61.1|  4.2 and up|NULL|\n",
            "|Garden Coloring Book|ART_AND_DESIGN|   4.4|  13791| 33M| 1,000,000+|Free|    0|      Everyone|        Art & Design|   20-Sep-17|             2.9.2|  3.0 and up|NULL|\n",
            "|Kids Paint Free -...|ART_AND_DESIGN|   4.7|    121|3.1M|    10,000+|Free|    0|      Everyone|Art & Design;Crea...|    3-Jul-18|               2.8|4.0.3 and up|NULL|\n",
            "|Text on Photo - F...|ART_AND_DESIGN|   4.4|  13880| 28M| 1,000,000+|Free|    0|      Everyone|        Art & Design|   27-Oct-17|             1.0.4|  4.1 and up|NULL|\n",
            "|Name Art Photo Ed...|ART_AND_DESIGN|   4.4|   8788| 12M| 1,000,000+|Free|    0|      Everyone|        Art & Design|   31-Jul-18|            1.0.15|  4.0 and up|NULL|\n",
            "|Tattoo Name On My...|ART_AND_DESIGN|   4.2|  44829| 20M|10,000,000+|Free|    0|          Teen|        Art & Design|    2-Apr-18|               3.8|  4.1 and up|NULL|\n",
            "|Mandala Coloring ...|ART_AND_DESIGN|   4.6|   4326| 21M|   100,000+|Free|    0|      Everyone|        Art & Design|   26-Jun-18|             1.0.4|  4.4 and up|NULL|\n",
            "|3D Color Pixel by...|ART_AND_DESIGN|   4.4|   1518| 37M|   100,000+|Free|    0|      Everyone|        Art & Design|    3-Aug-18|             1.2.3|  2.3 and up|NULL|\n",
            "|Learn To Draw Kaw...|ART_AND_DESIGN|   3.2|     55|2.7M|     5,000+|Free|    0|      Everyone|        Art & Design|    6-Jun-18|               NaN|  4.2 and up|NULL|\n",
            "|Photo Designer - ...|ART_AND_DESIGN|   4.7|   3632|5.5M|   500,000+|Free|    0|      Everyone|        Art & Design|   31-Jul-18|               3.1|  4.1 and up|NULL|\n",
            "|350 Diy Room Deco...|ART_AND_DESIGN|   4.5|     27| 17M|    10,000+|Free|    0|      Everyone|        Art & Design|    7-Nov-17|                 1|  2.3 and up|NULL|\n",
            "|FlipaClip - Carto...|ART_AND_DESIGN|   4.3| 194216| 39M| 5,000,000+|Free|    0|      Everyone|        Art & Design|    3-Aug-18|             2.2.5|4.0.3 and up|NULL|\n",
            "|        ibis Paint X|ART_AND_DESIGN|   4.6| 224399| 31M|10,000,000+|Free|    0|      Everyone|        Art & Design|   30-Jul-18|             5.5.4|  4.1 and up|NULL|\n",
            "+--------------------+--------------+------+-------+----+-----------+----+-----+--------------+--------------------+------------+------------------+------------+----+\n",
            "only showing top 20 rows\n",
            "\n"
          ]
        }
      ],
      "source": [
        "df.show()"
      ],
      "id": "59160ad3"
    },
    {
      "cell_type": "code",
      "execution_count": 7,
      "metadata": {
        "id": "CilwDPdFeaI_",
        "colab": {
          "base_uri": "https://localhost:8080/"
        },
        "outputId": "5103022a-e129-4d81-f74c-346ce5097971"
      },
      "outputs": [
        {
          "output_type": "execute_result",
          "data": {
            "text/plain": [
              "pyspark.sql.dataframe.DataFrame"
            ]
          },
          "metadata": {},
          "execution_count": 7
        }
      ],
      "source": [
        "#checking the dataframe type\n",
        "type(df)"
      ],
      "id": "CilwDPdFeaI_"
    },
    {
      "cell_type": "code",
      "execution_count": 8,
      "metadata": {
        "id": "7f1b24d0",
        "colab": {
          "base_uri": "https://localhost:8080/"
        },
        "outputId": "5cf8876a-1e61-4638-b61a-c4b90c116968"
      },
      "outputs": [
        {
          "output_type": "stream",
          "name": "stdout",
          "text": [
            "Number of rows:  10841\n",
            "Number of cols:  14\n"
          ]
        }
      ],
      "source": [
        "#shape of the dataframe\n",
        "row_count = df.count()\n",
        "print('Number of rows: ', row_count)\n",
        "column_count = len(df.columns)\n",
        "print('Number of cols: ', column_count)"
      ],
      "id": "7f1b24d0"
    },
    {
      "cell_type": "code",
      "execution_count": 9,
      "metadata": {
        "id": "M2MomblqEsC5",
        "colab": {
          "base_uri": "https://localhost:8080/"
        },
        "outputId": "6c9bbb3a-6e8d-42ab-c0d3-502a14dfccce"
      },
      "outputs": [
        {
          "output_type": "stream",
          "name": "stdout",
          "text": [
            "root\n",
            " |-- App: string (nullable = true)\n",
            " |-- Category: string (nullable = true)\n",
            " |-- Rating: string (nullable = true)\n",
            " |-- Reviews: string (nullable = true)\n",
            " |-- Size: string (nullable = true)\n",
            " |-- Installs: string (nullable = true)\n",
            " |-- Type: string (nullable = true)\n",
            " |-- Price: string (nullable = true)\n",
            " |-- Content Rating: string (nullable = true)\n",
            " |-- Genres: string (nullable = true)\n",
            " |-- Last Updated: string (nullable = true)\n",
            " |-- Current Ver: string (nullable = true)\n",
            " |-- Android Ver: string (nullable = true)\n",
            " |-- _c13: string (nullable = true)\n",
            "\n"
          ]
        }
      ],
      "source": [
        "#checking the dtype of variables\n",
        "df.printSchema()"
      ],
      "id": "M2MomblqEsC5"
    },
    {
      "cell_type": "markdown",
      "metadata": {
        "id": "N3Zh_xF-HGFO"
      },
      "source": [
        "### Cleaning and transforming the columns"
      ],
      "id": "N3Zh_xF-HGFO"
    },
    {
      "cell_type": "code",
      "execution_count": 10,
      "metadata": {
        "id": "vjlZ_Np2Io0l",
        "colab": {
          "base_uri": "https://localhost:8080/"
        },
        "outputId": "72885ffb-a3ff-44af-ab2f-b75716266f7f"
      },
      "outputs": [
        {
          "output_type": "stream",
          "name": "stdout",
          "text": [
            "+--------------------+--------------+------+-------+----+-----------+----+-----+--------------+--------------------+------------+------------------+------------+----+\n",
            "|                 App|      Category|Rating|Reviews|Size|   Installs|Type|Price|Content Rating|              Genres|Last Updated|       Current Ver| Android Ver|_c13|\n",
            "+--------------------+--------------+------+-------+----+-----------+----+-----+--------------+--------------------+------------+------------------+------------+----+\n",
            "|Photo Editor & Ca...|ART_AND_DESIGN|   4.1|    159|19.0|    10,000+|Free|    0|      Everyone|        Art & Design|    7-Jan-18|             1.0.0|4.0.3 and up|NULL|\n",
            "| Coloring book moana|ART_AND_DESIGN|   3.9|    967|14.0|   500,000+|Free|    0|      Everyone|Art & Design;Pret...|   15-Jan-18|             2.0.0|4.0.3 and up|NULL|\n",
            "|U Launcher Lite –...|ART_AND_DESIGN|   4.7|  87510| 8.7| 5,000,000+|Free|    0|      Everyone|        Art & Design|    1-Aug-18|             1.2.4|4.0.3 and up|NULL|\n",
            "|Sketch - Draw & P...|ART_AND_DESIGN|   4.5| 215644|25.0|50,000,000+|Free|    0|          Teen|        Art & Design|    8-Jun-18|Varies with device|  4.2 and up|NULL|\n",
            "|Pixel Draw - Numb...|ART_AND_DESIGN|   4.3|    967| 2.8|   100,000+|Free|    0|      Everyone|Art & Design;Crea...|   20-Jun-18|               1.1|  4.4 and up|NULL|\n",
            "|Paper flowers ins...|ART_AND_DESIGN|   4.4|    167| 5.6|    50,000+|Free|    0|      Everyone|        Art & Design|   26-Mar-17|                 1|  2.3 and up|NULL|\n",
            "|Smoke Effect Phot...|ART_AND_DESIGN|   3.8|    178|19.0|    50,000+|Free|    0|      Everyone|        Art & Design|   26-Apr-18|               1.1|4.0.3 and up|NULL|\n",
            "|    Infinite Painter|ART_AND_DESIGN|   4.1|  36815|29.0| 1,000,000+|Free|    0|      Everyone|        Art & Design|   14-Jun-18|          6.1.61.1|  4.2 and up|NULL|\n",
            "|Garden Coloring Book|ART_AND_DESIGN|   4.4|  13791|33.0| 1,000,000+|Free|    0|      Everyone|        Art & Design|   20-Sep-17|             2.9.2|  3.0 and up|NULL|\n",
            "|Kids Paint Free -...|ART_AND_DESIGN|   4.7|    121| 3.1|    10,000+|Free|    0|      Everyone|Art & Design;Crea...|    3-Jul-18|               2.8|4.0.3 and up|NULL|\n",
            "|Text on Photo - F...|ART_AND_DESIGN|   4.4|  13880|28.0| 1,000,000+|Free|    0|      Everyone|        Art & Design|   27-Oct-17|             1.0.4|  4.1 and up|NULL|\n",
            "|Name Art Photo Ed...|ART_AND_DESIGN|   4.4|   8788|12.0| 1,000,000+|Free|    0|      Everyone|        Art & Design|   31-Jul-18|            1.0.15|  4.0 and up|NULL|\n",
            "|Tattoo Name On My...|ART_AND_DESIGN|   4.2|  44829|20.0|10,000,000+|Free|    0|          Teen|        Art & Design|    2-Apr-18|               3.8|  4.1 and up|NULL|\n",
            "|Mandala Coloring ...|ART_AND_DESIGN|   4.6|   4326|21.0|   100,000+|Free|    0|      Everyone|        Art & Design|   26-Jun-18|             1.0.4|  4.4 and up|NULL|\n",
            "|3D Color Pixel by...|ART_AND_DESIGN|   4.4|   1518|37.0|   100,000+|Free|    0|      Everyone|        Art & Design|    3-Aug-18|             1.2.3|  2.3 and up|NULL|\n",
            "|Learn To Draw Kaw...|ART_AND_DESIGN|   3.2|     55| 2.7|     5,000+|Free|    0|      Everyone|        Art & Design|    6-Jun-18|               NaN|  4.2 and up|NULL|\n",
            "|Photo Designer - ...|ART_AND_DESIGN|   4.7|   3632| 5.5|   500,000+|Free|    0|      Everyone|        Art & Design|   31-Jul-18|               3.1|  4.1 and up|NULL|\n",
            "|350 Diy Room Deco...|ART_AND_DESIGN|   4.5|     27|17.0|    10,000+|Free|    0|      Everyone|        Art & Design|    7-Nov-17|                 1|  2.3 and up|NULL|\n",
            "|FlipaClip - Carto...|ART_AND_DESIGN|   4.3| 194216|39.0| 5,000,000+|Free|    0|      Everyone|        Art & Design|    3-Aug-18|             2.2.5|4.0.3 and up|NULL|\n",
            "|        ibis Paint X|ART_AND_DESIGN|   4.6| 224399|31.0|10,000,000+|Free|    0|      Everyone|        Art & Design|   30-Jul-18|             5.5.4|  4.1 and up|NULL|\n",
            "+--------------------+--------------+------+-------+----+-----------+----+-----+--------------+--------------------+------------+------------------+------------+----+\n",
            "only showing top 20 rows\n",
            "\n"
          ]
        }
      ],
      "source": [
        "# Replace 'M' with '' and 'k' with '' and convert to float type\n",
        "df = df.withColumn('Size', when(col('Size').contains('M'),\n",
        "    regexp_replace('Size', 'M', '').cast('float')\n",
        ").otherwise(\n",
        "    when(col('Size').contains('k'),\n",
        "        regexp_replace('Size', 'k', '').cast('float') *0.001 #converting kb to Mb\n",
        "    ).otherwise(\n",
        "        col('Size').cast('float')\n",
        "    )\n",
        ").cast('float'))\n",
        "\n",
        "# Filter out rows where 'Size' is 'Varies with Size'\n",
        "df = df.filter(col('Size').isNotNull())\n",
        "\n",
        "df.show()"
      ],
      "id": "vjlZ_Np2Io0l"
    },
    {
      "cell_type": "code",
      "execution_count": 11,
      "metadata": {
        "id": "fiOxOEhGAtP9"
      },
      "outputs": [],
      "source": [
        "columns_to_drop = [\"_c13\"]\n",
        "df = df.drop(*columns_to_drop)"
      ],
      "id": "fiOxOEhGAtP9"
    },
    {
      "cell_type": "code",
      "execution_count": 12,
      "metadata": {
        "id": "7Q8lg31cEsAP"
      },
      "outputs": [],
      "source": [
        "# Remove '$' from 'Price' column and convert to DoubleType\n",
        "df = df.withColumn('Price', F.regexp_replace(F.regexp_replace('Price', '\\$', ''), ',', '').cast(DoubleType()))\n",
        "\n",
        "# Remove '+' and ',' from 'Installs' column and convert to IntegerType\n",
        "df = df.withColumn('Installs', F.regexp_replace(F.regexp_replace('Installs', '\\+', ''), ',', '').cast(IntegerType()))\n",
        "\n",
        "# Remove '+' and ',' from 'Reviews' column and convert to IntegerType\n",
        "df = df.withColumn('Reviews', F.regexp_replace(F.regexp_replace('Reviews', '\\+', ''), ',', '').cast(IntegerType()))\n",
        "\n",
        "#Rating- converting to float and removing null\n",
        "df = df.withColumn('Rating', col('Rating').cast('float'))\n",
        "df = df.filter(col('Rating').isNotNull())\n",
        "\n",
        "#casting 'Last update' as date\n",
        "df = df.withColumn('Last Updated', col('Last Updated').cast('date'))\n",
        "\n",
        "#removing null values and other unrequired values from some columns\n",
        "df = df.filter(col('Android Ver').isNotNull())\n",
        "df = df.filter((col('Type') != '0') & col('Type').isNotNull())\n",
        "df = df.filter(col('Content Rating')!= 'Unrated')"
      ],
      "id": "7Q8lg31cEsAP"
    },
    {
      "cell_type": "code",
      "execution_count": 13,
      "metadata": {
        "id": "x1PXVd6ZHx3W",
        "colab": {
          "base_uri": "https://localhost:8080/"
        },
        "outputId": "360b667a-c72f-4571-b5ed-0b7a764f80e8"
      },
      "outputs": [
        {
          "output_type": "stream",
          "name": "stdout",
          "text": [
            "root\n",
            " |-- App: string (nullable = true)\n",
            " |-- Category: string (nullable = true)\n",
            " |-- Rating: float (nullable = true)\n",
            " |-- Reviews: integer (nullable = true)\n",
            " |-- Size: float (nullable = true)\n",
            " |-- Installs: integer (nullable = true)\n",
            " |-- Type: string (nullable = true)\n",
            " |-- Price: double (nullable = true)\n",
            " |-- Content Rating: string (nullable = true)\n",
            " |-- Genres: string (nullable = true)\n",
            " |-- Last Updated: date (nullable = true)\n",
            " |-- Current Ver: string (nullable = true)\n",
            " |-- Android Ver: string (nullable = true)\n",
            "\n"
          ]
        }
      ],
      "source": [
        "#checking the dtype again after data conversion\n",
        "df.printSchema()"
      ],
      "id": "x1PXVd6ZHx3W"
    },
    {
      "cell_type": "code",
      "execution_count": 14,
      "metadata": {
        "id": "OwtQBDCnjDkq",
        "colab": {
          "base_uri": "https://localhost:8080/"
        },
        "outputId": "acad7492-f09e-4055-ef9f-21208e7f6e64"
      },
      "outputs": [
        {
          "output_type": "stream",
          "name": "stdout",
          "text": [
            "+--------------------+--------------+------+-------+----+--------+----+-----+--------------+--------------------+------------+------------------+------------+\n",
            "|                 App|      Category|Rating|Reviews|Size|Installs|Type|Price|Content Rating|              Genres|Last Updated|       Current Ver| Android Ver|\n",
            "+--------------------+--------------+------+-------+----+--------+----+-----+--------------+--------------------+------------+------------------+------------+\n",
            "|Photo Editor & Ca...|ART_AND_DESIGN|   4.1|    159|19.0|   10000|Free|  0.0|      Everyone|        Art & Design|        NULL|             1.0.0|4.0.3 and up|\n",
            "| Coloring book moana|ART_AND_DESIGN|   3.9|    967|14.0|  500000|Free|  0.0|      Everyone|Art & Design;Pret...|        NULL|             2.0.0|4.0.3 and up|\n",
            "|U Launcher Lite –...|ART_AND_DESIGN|   4.7|  87510| 8.7| 5000000|Free|  0.0|      Everyone|        Art & Design|        NULL|             1.2.4|4.0.3 and up|\n",
            "|Sketch - Draw & P...|ART_AND_DESIGN|   4.5| 215644|25.0|50000000|Free|  0.0|          Teen|        Art & Design|        NULL|Varies with device|  4.2 and up|\n",
            "|Pixel Draw - Numb...|ART_AND_DESIGN|   4.3|    967| 2.8|  100000|Free|  0.0|      Everyone|Art & Design;Crea...|        NULL|               1.1|  4.4 and up|\n",
            "|Paper flowers ins...|ART_AND_DESIGN|   4.4|    167| 5.6|   50000|Free|  0.0|      Everyone|        Art & Design|        NULL|                 1|  2.3 and up|\n",
            "|Smoke Effect Phot...|ART_AND_DESIGN|   3.8|    178|19.0|   50000|Free|  0.0|      Everyone|        Art & Design|        NULL|               1.1|4.0.3 and up|\n",
            "|    Infinite Painter|ART_AND_DESIGN|   4.1|  36815|29.0| 1000000|Free|  0.0|      Everyone|        Art & Design|        NULL|          6.1.61.1|  4.2 and up|\n",
            "|Garden Coloring Book|ART_AND_DESIGN|   4.4|  13791|33.0| 1000000|Free|  0.0|      Everyone|        Art & Design|        NULL|             2.9.2|  3.0 and up|\n",
            "|Kids Paint Free -...|ART_AND_DESIGN|   4.7|    121| 3.1|   10000|Free|  0.0|      Everyone|Art & Design;Crea...|        NULL|               2.8|4.0.3 and up|\n",
            "|Text on Photo - F...|ART_AND_DESIGN|   4.4|  13880|28.0| 1000000|Free|  0.0|      Everyone|        Art & Design|        NULL|             1.0.4|  4.1 and up|\n",
            "|Name Art Photo Ed...|ART_AND_DESIGN|   4.4|   8788|12.0| 1000000|Free|  0.0|      Everyone|        Art & Design|        NULL|            1.0.15|  4.0 and up|\n",
            "|Tattoo Name On My...|ART_AND_DESIGN|   4.2|  44829|20.0|10000000|Free|  0.0|          Teen|        Art & Design|        NULL|               3.8|  4.1 and up|\n",
            "|Mandala Coloring ...|ART_AND_DESIGN|   4.6|   4326|21.0|  100000|Free|  0.0|      Everyone|        Art & Design|        NULL|             1.0.4|  4.4 and up|\n",
            "|3D Color Pixel by...|ART_AND_DESIGN|   4.4|   1518|37.0|  100000|Free|  0.0|      Everyone|        Art & Design|        NULL|             1.2.3|  2.3 and up|\n",
            "|Learn To Draw Kaw...|ART_AND_DESIGN|   3.2|     55| 2.7|    5000|Free|  0.0|      Everyone|        Art & Design|        NULL|               NaN|  4.2 and up|\n",
            "|Photo Designer - ...|ART_AND_DESIGN|   4.7|   3632| 5.5|  500000|Free|  0.0|      Everyone|        Art & Design|        NULL|               3.1|  4.1 and up|\n",
            "|350 Diy Room Deco...|ART_AND_DESIGN|   4.5|     27|17.0|   10000|Free|  0.0|      Everyone|        Art & Design|        NULL|                 1|  2.3 and up|\n",
            "|FlipaClip - Carto...|ART_AND_DESIGN|   4.3| 194216|39.0| 5000000|Free|  0.0|      Everyone|        Art & Design|        NULL|             2.2.5|4.0.3 and up|\n",
            "|        ibis Paint X|ART_AND_DESIGN|   4.6| 224399|31.0|10000000|Free|  0.0|      Everyone|        Art & Design|        NULL|             5.5.4|  4.1 and up|\n",
            "+--------------------+--------------+------+-------+----+--------+----+-----+--------------+--------------------+------------+------------------+------------+\n",
            "only showing top 20 rows\n",
            "\n"
          ]
        }
      ],
      "source": [
        "df.show()"
      ],
      "id": "OwtQBDCnjDkq"
    },
    {
      "cell_type": "code",
      "execution_count": 15,
      "metadata": {
        "id": "lD6BVxLVnMJY",
        "colab": {
          "base_uri": "https://localhost:8080/"
        },
        "outputId": "2bd198da-e6e4-4a41-9640-8dc348d343af"
      },
      "outputs": [
        {
          "output_type": "stream",
          "name": "stdout",
          "text": [
            "Number of rows:  9141\n",
            "Number of cols:  13\n"
          ]
        }
      ],
      "source": [
        "#checking the data shape again after removing nulls\n",
        "row_count = df.count()\n",
        "print('Number of rows: ', row_count)\n",
        "column_count = len(df.columns)\n",
        "print('Number of cols: ', column_count)"
      ],
      "id": "lD6BVxLVnMJY"
    },
    {
      "cell_type": "code",
      "execution_count": 16,
      "metadata": {
        "id": "lsGAe2HBoDmn",
        "colab": {
          "base_uri": "https://localhost:8080/"
        },
        "outputId": "2537ef90-a8d9-475b-ad42-fc6179f46fab"
      },
      "outputs": [
        {
          "output_type": "stream",
          "name": "stdout",
          "text": [
            "+---+--------+------+-------+----+--------+----+-----+--------------+------+------------+-----------+-----------+\n",
            "|App|Category|Rating|Reviews|Size|Installs|Type|Price|Content Rating|Genres|Last Updated|Current Ver|Android Ver|\n",
            "+---+--------+------+-------+----+--------+----+-----+--------------+------+------------+-----------+-----------+\n",
            "|  0|       0|     0|      0|   0|       0|   0|    0|             0|     0|        9141|          1|          0|\n",
            "+---+--------+------+-------+----+--------+----+-----+--------------+------+------------+-----------+-----------+\n",
            "\n"
          ]
        }
      ],
      "source": [
        "#checking for null values. NOTE:Ignore the exsitence for null values in last update for now\n",
        "column_names = df.columns\n",
        "\n",
        "null_check_result = df.agg(*(sum(col(column).isNull().cast('int')).alias(column) for column in column_names))\n",
        "null_check_result.show()"
      ],
      "id": "lsGAe2HBoDmn"
    },
    {
      "cell_type": "code",
      "execution_count": 17,
      "metadata": {
        "id": "UfQuOZsJowKd"
      },
      "outputs": [],
      "source": [
        "df = df.dropna(subset=['Rating'])"
      ],
      "id": "UfQuOZsJowKd"
    },
    {
      "cell_type": "code",
      "execution_count": 18,
      "metadata": {
        "id": "5eCNzXJvmZSo",
        "colab": {
          "base_uri": "https://localhost:8080/"
        },
        "outputId": "982f7049-458e-48a0-9fb6-b572c3181126"
      },
      "outputs": [
        {
          "output_type": "stream",
          "name": "stdout",
          "text": [
            "+------+\n",
            "|Rating|\n",
            "+------+\n",
            "|   5.0|\n",
            "|   2.5|\n",
            "|   3.8|\n",
            "|   2.2|\n",
            "|   4.6|\n",
            "|   3.4|\n",
            "|   4.2|\n",
            "|   1.8|\n",
            "|   3.2|\n",
            "|   2.9|\n",
            "|   2.0|\n",
            "|   3.6|\n",
            "|   3.0|\n",
            "|   1.5|\n",
            "|   2.6|\n",
            "|   3.3|\n",
            "|   2.8|\n",
            "|   4.4|\n",
            "|   3.5|\n",
            "|   1.0|\n",
            "|   1.4|\n",
            "|   1.6|\n",
            "|   4.1|\n",
            "|   4.8|\n",
            "|   2.4|\n",
            "|   2.7|\n",
            "|   4.5|\n",
            "|   3.7|\n",
            "|   3.9|\n",
            "|   1.2|\n",
            "|   1.7|\n",
            "|   4.0|\n",
            "|   2.3|\n",
            "|   3.1|\n",
            "|   4.7|\n",
            "|   4.3|\n",
            "|   2.1|\n",
            "|   4.9|\n",
            "|   1.9|\n",
            "+------+\n",
            "\n"
          ]
        }
      ],
      "source": [
        "#doing unique counts to see and inconsistency in data or existence of nulls\n",
        "unique_values = df.select('Rating').distinct()\n",
        "unique_values.show(100)"
      ],
      "id": "5eCNzXJvmZSo"
    },
    {
      "cell_type": "markdown",
      "metadata": {
        "id": "RF9m9l6hCuTR"
      },
      "source": [
        "# EDA"
      ],
      "id": "RF9m9l6hCuTR"
    },
    {
      "cell_type": "code",
      "source": [
        "df.count()"
      ],
      "metadata": {
        "colab": {
          "base_uri": "https://localhost:8080/"
        },
        "id": "8UruHYSjF8rT",
        "outputId": "6f681708-0fbc-4008-bd57-435d973b6937"
      },
      "id": "8UruHYSjF8rT",
      "execution_count": 19,
      "outputs": [
        {
          "output_type": "execute_result",
          "data": {
            "text/plain": [
              "7726"
            ]
          },
          "metadata": {},
          "execution_count": 19
        }
      ]
    },
    {
      "cell_type": "code",
      "execution_count": 20,
      "metadata": {
        "id": "e7d23957",
        "colab": {
          "base_uri": "https://localhost:8080/"
        },
        "outputId": "c95dc8f5-9d34-4f5d-98ed-6d931e9ad42f"
      },
      "outputs": [
        {
          "output_type": "stream",
          "name": "stdout",
          "text": [
            "+-------+--------------------+--------------+-----------------+-----------------+-----------------+--------------------+----+------------------+---------------+------+-------------+------------------+\n",
            "|summary|                 App|      Category|           Rating|          Reviews|             Size|            Installs|Type|             Price| Content Rating|Genres|  Current Ver|       Android Ver|\n",
            "+-------+--------------------+--------------+-----------------+-----------------+-----------------+--------------------+----+------------------+---------------+------+-------------+------------------+\n",
            "|  count|                7726|          7726|             7726|             7726|             7726|                7726|7726|              7726|           7726|  7726|         7725|              7726|\n",
            "|   mean|                NULL|          NULL|4.173789795973188|294786.4104323065|22.96463156907949|   8420864.913020968|NULL| 1.128052032099394|           NULL|  NULL|          NaN|               NaN|\n",
            "| stddev|                NULL|          NULL|0.544634604413885|1863579.883921562|23.44731774645875|5.0147939321613446E7|NULL|17.404661173773594|           NULL|  NULL|          NaN|               NaN|\n",
            "|    min|\"Alphabet \"\"H\"\" P...|ART_AND_DESIGN|              1.0|                1|           0.0085|                   1|Free|               0.0|Adults only 18+|Action|      0.0.0.2|        1.0 and up|\n",
            "|    max|🔥 Football Wallp...|       WEATHER|              5.0|         44893888|            100.0|          1000000000|Paid|             400.0|           Teen|  Word|version 0.994|Varies with device|\n",
            "+-------+--------------------+--------------+-----------------+-----------------+-----------------+--------------------+----+------------------+---------------+------+-------------+------------------+\n",
            "\n"
          ]
        }
      ],
      "source": [
        "# Use the describe method to get summary statistics\n",
        "summary_stats = df.describe()\n",
        "\n",
        "# Show the summary statistics\n",
        "summary_stats.show()"
      ],
      "id": "e7d23957"
    },
    {
      "cell_type": "code",
      "source": [
        "# Find value counts of string columns\n",
        "string_cols = [col_name for col_name, col_type in df.dtypes if col_type == \"string\"]\n",
        "\n",
        "for col_name in string_cols:\n",
        "    col_counts = df.groupBy(col_name).count().orderBy(col_name)\n",
        "    col_counts.show()"
      ],
      "metadata": {
        "colab": {
          "base_uri": "https://localhost:8080/"
        },
        "id": "psXVF8elRT9k",
        "outputId": "56e6b3d1-f21b-4dbe-cac6-ec1aa38f84e4"
      },
      "id": "psXVF8elRT9k",
      "execution_count": 21,
      "outputs": [
        {
          "output_type": "stream",
          "name": "stdout",
          "text": [
            "+--------------------+-----+\n",
            "|                 App|count|\n",
            "+--------------------+-----+\n",
            "|\"Alphabet \"\"H\"\" P...|    1|\n",
            "|\"Eat Fast Prepare...|    1|\n",
            "|              #NAME?|    1|\n",
            "|+Download 4 Insta...|    1|\n",
            "|                  .R|    1|\n",
            "|              /u/app|    1|\n",
            "|              058.ba|    1|\n",
            "|      1. FC Köln App|    1|\n",
            "|10 Best Foods for...|    2|\n",
            "|10 Minutes a Day ...|    1|\n",
            "|10 WPM Amateur ha...|    1|\n",
            "|10,000 Quotes DB ...|    1|\n",
            "|100 Doors of Revenge|    1|\n",
            "|     100+ C Programs|    1|\n",
            "|100000+ Messages ...|    1|\n",
            "|101 C Programming...|    1|\n",
            "|104 Looking for a...|    1|\n",
            "|                11st|    1|\n",
            "|12 Step Meditatio...|    1|\n",
            "|17th Edition Cabl...|    1|\n",
            "+--------------------+-----+\n",
            "only showing top 20 rows\n",
            "\n",
            "+-------------------+-----+\n",
            "|           Category|count|\n",
            "+-------------------+-----+\n",
            "|     ART_AND_DESIGN|   59|\n",
            "|  AUTO_AND_VEHICLES|   63|\n",
            "|             BEAUTY|   37|\n",
            "|BOOKS_AND_REFERENCE|  144|\n",
            "|           BUSINESS|  246|\n",
            "|             COMICS|   49|\n",
            "|      COMMUNICATION|  211|\n",
            "|             DATING|  173|\n",
            "|          EDUCATION|  110|\n",
            "|      ENTERTAINMENT|   90|\n",
            "|             EVENTS|   38|\n",
            "|             FAMILY| 1617|\n",
            "|            FINANCE|  265|\n",
            "|     FOOD_AND_DRINK|   84|\n",
            "|               GAME|  974|\n",
            "| HEALTH_AND_FITNESS|  222|\n",
            "|     HOUSE_AND_HOME|   56|\n",
            "| LIBRARIES_AND_DEMO|   62|\n",
            "|          LIFESTYLE|  280|\n",
            "|MAPS_AND_NAVIGATION|   95|\n",
            "+-------------------+-----+\n",
            "only showing top 20 rows\n",
            "\n",
            "+----+-----+\n",
            "|Type|count|\n",
            "+----+-----+\n",
            "|Free| 7147|\n",
            "|Paid|  579|\n",
            "+----+-----+\n",
            "\n",
            "+---------------+-----+\n",
            "| Content Rating|count|\n",
            "+---------------+-----+\n",
            "|Adults only 18+|    2|\n",
            "|       Everyone| 6171|\n",
            "|   Everyone 10+|  318|\n",
            "|     Mature 17+|  367|\n",
            "|           Teen|  868|\n",
            "+---------------+-----+\n",
            "\n",
            "+--------------------+-----+\n",
            "|              Genres|count|\n",
            "+--------------------+-----+\n",
            "|              Action|  322|\n",
            "|Action;Action & A...|   16|\n",
            "|           Adventure|   68|\n",
            "|Adventure;Action ...|   13|\n",
            "|Adventure;Brain G...|    1|\n",
            "| Adventure;Education|    2|\n",
            "|              Arcade|  186|\n",
            "|Arcade;Action & A...|   13|\n",
            "| Arcade;Pretend Play|    1|\n",
            "|        Art & Design|   53|\n",
            "|Art & Design;Crea...|    6|\n",
            "|Art & Design;Pret...|    2|\n",
            "|     Auto & Vehicles|   63|\n",
            "|              Beauty|   37|\n",
            "|               Board|   38|\n",
            "|Board;Action & Ad...|    3|\n",
            "|   Board;Brain Games|   14|\n",
            "|  Board;Pretend Play|    1|\n",
            "|   Books & Reference|  144|\n",
            "|Books & Reference...|    2|\n",
            "+--------------------+-----+\n",
            "only showing top 20 rows\n",
            "\n",
            "+-------------+-----+\n",
            "|  Current Ver|count|\n",
            "+-------------+-----+\n",
            "|         NULL|    1|\n",
            "|      0.0.0.2|    1|\n",
            "|        0.0.1|    6|\n",
            "|        0.0.2|    3|\n",
            "|        0.0.3|    1|\n",
            "|        0.0.4|    2|\n",
            "|       0.0.42|    1|\n",
            "|        0.0.5|    1|\n",
            "|       0.0.52|    1|\n",
            "|       0.0.53|    1|\n",
            "|        0.0.7|    1|\n",
            "|       0.0.73|    1|\n",
            "|       0.0.80|    1|\n",
            "|        0.0.9|    2|\n",
            "|          0.1|   11|\n",
            "|        0.1.0|    1|\n",
            "|        0.1.1|    3|\n",
            "|     0.1.10.0|    1|\n",
            "|0.1.100944346|    2|\n",
            "|       0.1.11|    1|\n",
            "+-------------+-----+\n",
            "only showing top 20 rows\n",
            "\n",
            "+-------------+-----+\n",
            "|  Android Ver|count|\n",
            "+-------------+-----+\n",
            "|   1.0 and up|    2|\n",
            "|   1.5 and up|   15|\n",
            "|   1.6 and up|   87|\n",
            "|   2.0 and up|   27|\n",
            "| 2.0.1 and up|    7|\n",
            "|   2.1 and up|  113|\n",
            "|   2.2 and up|  206|\n",
            "|   2.3 and up|  566|\n",
            "| 2.3.3 and up|  234|\n",
            "|   3.0 and up|  211|\n",
            "|   3.1 and up|    8|\n",
            "|   3.2 and up|   31|\n",
            "|   4.0 and up| 1108|\n",
            "|4.0.3 - 7.1.1|    2|\n",
            "| 4.0.3 and up| 1194|\n",
            "|  4.1 - 7.1.1|    1|\n",
            "|   4.1 and up| 1929|\n",
            "|   4.2 and up|  318|\n",
            "|   4.3 and up|  195|\n",
            "|   4.4 and up|  806|\n",
            "+-------------+-----+\n",
            "only showing top 20 rows\n",
            "\n"
          ]
        }
      ]
    },
    {
      "cell_type": "code",
      "source": [
        "from pyspark.sql.functions import col, countDistinct\n",
        "for col_name in string_cols:\n",
        "    col_nunique = df.agg(countDistinct(col(col_name)).alias('nunique')).first()['nunique']\n",
        "    print(f\"Column '{col_name}' has {col_nunique} unique values.\")"
      ],
      "metadata": {
        "colab": {
          "base_uri": "https://localhost:8080/"
        },
        "id": "bCZKiRuqRuGU",
        "outputId": "ca6765f3-9b74-4d75-911d-30717c61b3e1"
      },
      "id": "bCZKiRuqRuGU",
      "execution_count": 22,
      "outputs": [
        {
          "output_type": "stream",
          "name": "stdout",
          "text": [
            "Column 'App' has 7026 unique values.\n",
            "Column 'Category' has 33 unique values.\n",
            "Column 'Type' has 2 unique values.\n",
            "Column 'Content Rating' has 5 unique values.\n",
            "Column 'Genres' has 112 unique values.\n",
            "Column 'Current Ver' has 2476 unique values.\n",
            "Column 'Android Ver' has 32 unique values.\n"
          ]
        }
      ]
    },
    {
      "cell_type": "code",
      "execution_count": 23,
      "metadata": {
        "id": "UfzMAJThLVif",
        "colab": {
          "base_uri": "https://localhost:8080/",
          "height": 563
        },
        "outputId": "1735ce17-3aa3-446a-9fb7-108015284dcd"
      },
      "outputs": [
        {
          "output_type": "display_data",
          "data": {
            "text/plain": [
              "<Figure size 1000x600 with 1 Axes>"
            ],
            "image/png": "[encoded data removed]"
          },
          "metadata": {}
        }
      ],
      "source": [
        "# Family category has the highest app distribution\n",
        "import pandas as pd\n",
        "import matplotlib.pyplot as plt\n",
        "import seaborn as sns\n",
        "\n",
        "# Convert Spark DataFrame to Pandas DataFrame for plotting\n",
        "df_panda = df.toPandas()\n",
        "\n",
        "# Plotting the count plot using Matplotlib or Seaborn\n",
        "plt.figure(figsize=(10, 6))\n",
        "sns.countplot(y='Category', data=df_panda, order=df_panda['Category'].value_counts().index)\n",
        "plt.title('App Distribution by Category')\n",
        "plt.xlabel('Count')\n",
        "plt.ylabel('Category')\n",
        "plt.show()\n"
      ],
      "id": "UfzMAJThLVif"
    },
    {
      "cell_type": "code",
      "execution_count": 24,
      "metadata": {
        "id": "ospLWegAKK8D",
        "colab": {
          "base_uri": "https://localhost:8080/",
          "height": 564
        },
        "outputId": "59b94de6-fa3c-450c-8308-9eee39486660"
      },
      "outputs": [
        {
          "output_type": "display_data",
          "data": {
            "text/plain": [
              "<Figure size 800x600 with 1 Axes>"
            ],
            "image/png": "[encoded data removed]"
          },
          "metadata": {}
        }
      ],
      "source": [
        "#\n",
        "# Rating Distribution\n",
        "plt.figure(figsize=(8, 6))\n",
        "sns.histplot(df_panda['Rating'], bins=20)\n",
        "plt.title('Distribution of App Ratings')\n",
        "plt.xlabel('Rating')\n",
        "plt.ylabel('Count')\n",
        "plt.show()"
      ],
      "id": "ospLWegAKK8D"
    },
    {
      "cell_type": "code",
      "execution_count": 25,
      "metadata": {
        "id": "os_QsAXDKPOR",
        "colab": {
          "base_uri": "https://localhost:8080/",
          "height": 564
        },
        "outputId": "94240321-c8b9-4bc8-d000-db0031f866d0"
      },
      "outputs": [
        {
          "output_type": "display_data",
          "data": {
            "text/plain": [
              "<Figure size 800x600 with 1 Axes>"
            ],
            "image/png": "[encoded data removed]"
          },
          "metadata": {}
        }
      ],
      "source": [
        "#App sizes ranging from 0-10 have the highest distribution\n",
        "plt.figure(figsize=(8, 6))\n",
        "sns.histplot(df_panda['Size'], bins=10)\n",
        "plt.title('Distribution of App Sizes')\n",
        "plt.xlabel('Size (in MB)')\n",
        "plt.ylabel('Count')\n",
        "plt.show()\n"
      ],
      "id": "os_QsAXDKPOR"
    },
    {
      "cell_type": "code",
      "execution_count": 26,
      "metadata": {
        "id": "S69mXwJGKfG3",
        "colab": {
          "base_uri": "https://localhost:8080/",
          "height": 681
        },
        "outputId": "fc361455-9164-428a-b75b-5e88958ffcf6"
      },
      "outputs": [
        {
          "output_type": "display_data",
          "data": {
            "text/plain": [
              "<Figure size 1200x800 with 1 Axes>"
            ],
            "image/png": "[encoded data removed]"
          },
          "metadata": {}
        }
      ],
      "source": [
        "import matplotlib.pyplot as plt\n",
        "\n",
        "# Assuming you have a Pandas DataFrame df_panda with the relevant data\n",
        "\n",
        "# Grouping by category and summing the installations\n",
        "installations_per_category = df_panda.groupby('Category')['Installs'].sum().sort_values(ascending=False)\n",
        "\n",
        "# Plotting the installations across categories using a bar plot\n",
        "plt.figure(figsize=(12, 8))\n",
        "installations_per_category.plot(kind='bar', color='skyblue')\n",
        "plt.title('Total Installations per Category')\n",
        "plt.xlabel('Category')\n",
        "plt.ylabel('Total Installs')\n",
        "plt.xticks(rotation=90)\n",
        "plt.tight_layout()\n",
        "\n",
        "\n",
        "\n",
        "# Show the plot\n",
        "plt.show()\n"
      ],
      "id": "S69mXwJGKfG3"
    },
    {
      "cell_type": "code",
      "execution_count": 27,
      "metadata": {
        "id": "NTHLD3qJMdO_",
        "colab": {
          "base_uri": "https://localhost:8080/",
          "height": 410
        },
        "outputId": "346b1caf-2150-410e-df9a-aff017c34d4d"
      },
      "outputs": [
        {
          "output_type": "display_data",
          "data": {
            "text/plain": [
              "<Figure size 600x400 with 1 Axes>"
            ],
            "image/png": "[encoded data removed]"
          },
          "metadata": {}
        }
      ],
      "source": [
        "import seaborn as sns\n",
        "import matplotlib.pyplot as plt\n",
        "\n",
        "# Assuming you have a Pandas DataFrame df_panda with the relevant data\n",
        "\n",
        "# Count of Free vs Paid apps\n",
        "plt.figure(figsize=(6, 4))\n",
        "ax = sns.countplot(x='Type', data=df_panda)\n",
        "plt.title('Count of Free vs Paid Apps')\n",
        "plt.xlabel('Type')\n",
        "plt.ylabel('Count')\n",
        "\n",
        "# Calculate proportions of free and paid apps\n",
        "total_apps = len(df_panda)\n",
        "for p in ax.patches:\n",
        "    percentage = '{:.1f}%'.format(100 * p.get_height() / total_apps)\n",
        "    x = p.get_x() + p.get_width() / 2\n",
        "    y = p.get_height()\n",
        "    ax.annotate(percentage, (x, y), ha='center', va='bottom')\n",
        "\n",
        "plt.show()\n",
        "\n"
      ],
      "id": "NTHLD3qJMdO_"
    },
    {
      "cell_type": "code",
      "execution_count": 28,
      "metadata": {
        "id": "3goX8VR9MiZ5",
        "colab": {
          "base_uri": "https://localhost:8080/",
          "height": 564
        },
        "outputId": "2ab920f9-654a-4064-8132-9bc7b1c57536"
      },
      "outputs": [
        {
          "output_type": "display_data",
          "data": {
            "text/plain": [
              "<Figure size 800x600 with 1 Axes>"
            ],
            "image/png": "[encoded data removed]"
          },
          "metadata": {}
        }
      ],
      "source": [
        "# Content Rating Distribution\n",
        "plt.figure(figsize=(8, 6))\n",
        "sns.countplot(y='Content Rating', data=df_panda, order=df_panda['Content Rating'].value_counts().index)\n",
        "plt.title('App Distribution by Content Rating')\n",
        "plt.xlabel('Count')\n",
        "plt.ylabel('Content Rating')\n",
        "plt.show()"
      ],
      "id": "3goX8VR9MiZ5"
    },
    {
      "cell_type": "code",
      "source": [
        "#correlation\n",
        "\n",
        "# Calculate the correlation matrix\n",
        "correlation_matrix = df_panda.corr()\n",
        "\n",
        "# Create a mask for the upper triangle\n",
        "mask = np.triu(np.ones_like(correlation_matrix, dtype=bool))\n",
        "\n",
        "# Create the correlation heatmap with mask\n",
        "sns.heatmap(correlation_matrix, mask=mask, annot=True, cmap='RdBu')\n",
        "\n",
        "# Show the plot\n",
        "plt.show()"
      ],
      "metadata": {
        "id": "iMiKW66JKtKU",
        "colab": {
          "base_uri": "https://localhost:8080/",
          "height": 486
        },
        "outputId": "48bbdb01-7dd0-4b6c-a960-5e99dbae0605"
      },
      "id": "iMiKW66JKtKU",
      "execution_count": 29,
      "outputs": [
        {
          "output_type": "stream",
          "name": "stderr",
          "text": [
            "<ipython-input-29-55ab811bff4e>:4: FutureWarning: The default value of numeric_only in DataFrame.corr is deprecated. In a future version, it will default to False. Select only valid columns or specify the value of numeric_only to silence this warning.\n",
            "  correlation_matrix = df_panda.corr()\n"
          ]
        },
        {
          "output_type": "display_data",
          "data": {
            "text/plain": [
              "<Figure size 640x480 with 2 Axes>"
            ],
            "image/png": "[encoded data removed]"
          },
          "metadata": {}
        }
      ]
    },
    {
      "cell_type": "code",
      "source": [
        "import seaborn as sns\n",
        "import matplotlib.pyplot as plt\n",
        "\n",
        "# Assuming you have a Pandas DataFrame named 'data' with 'installations' and 'reviews' columns\n",
        "\n",
        "# Create the scatter plot\n",
        "sns.scatterplot(data=df_panda, x='Installs', y='Reviews')\n",
        "\n",
        "# Set the axis labels\n",
        "plt.xlabel('Installations')\n",
        "plt.ylabel('Reviews')\n",
        "\n",
        "# Display the plot\n",
        "plt.show()"
      ],
      "metadata": {
        "colab": {
          "base_uri": "https://localhost:8080/",
          "height": 465
        },
        "id": "KfSTTIsnAXKY",
        "outputId": "3646cff1-6bb7-40c8-bf4e-cda4d3ed3f4a"
      },
      "id": "KfSTTIsnAXKY",
      "execution_count": 30,
      "outputs": [
        {
          "output_type": "display_data",
          "data": {
            "text/plain": [
              "<Figure size 640x480 with 1 Axes>"
            ],
            "image/png": "[encoded data removed]"
          },
          "metadata": {}
        }
      ]
    },
    {
      "cell_type": "markdown",
      "metadata": {
        "id": "X6IZqxWMLM6a"
      },
      "source": [
        "# Supervised Model:"
      ],
      "id": "X6IZqxWMLM6a"
    },
    {
      "cell_type": "code",
      "execution_count": 31,
      "metadata": {
        "id": "uxQqmHY2LRIH",
        "colab": {
          "base_uri": "https://localhost:8080/"
        },
        "outputId": "8c358308-5fc0-4618-c6b5-46ac40f73a46"
      },
      "outputs": [
        {
          "output_type": "stream",
          "name": "stdout",
          "text": [
            "root\n",
            " |-- App: string (nullable = true)\n",
            " |-- Category: string (nullable = true)\n",
            " |-- Rating: float (nullable = true)\n",
            " |-- Reviews: integer (nullable = true)\n",
            " |-- Size: float (nullable = true)\n",
            " |-- Installs: integer (nullable = true)\n",
            " |-- Type: string (nullable = true)\n",
            " |-- Price: double (nullable = true)\n",
            " |-- Content Rating: string (nullable = true)\n",
            " |-- Genres: string (nullable = true)\n",
            " |-- Last Updated: date (nullable = true)\n",
            " |-- Current Ver: string (nullable = true)\n",
            " |-- Android Ver: string (nullable = true)\n",
            "\n"
          ]
        }
      ],
      "source": [
        "# checking the schema\n",
        "df.printSchema()"
      ],
      "id": "uxQqmHY2LRIH"
    },
    {
      "cell_type": "markdown",
      "metadata": {
        "id": "mH_siKc0L1V5"
      },
      "source": [
        "### Building a multivariate linear regression model using reasonable numeric inputs: Rating, Reviews, Size, Price"
      ],
      "id": "mH_siKc0L1V5"
    },
    {
      "cell_type": "code",
      "execution_count": 32,
      "metadata": {
        "id": "SnOhv3ouLW_X"
      },
      "outputs": [],
      "source": [
        "from pyspark.ml import feature, evaluation, Pipeline\n",
        "from pyspark.ml.regression import LinearRegression\n",
        "from pyspark.sql import functions as fn\n",
        "from pyspark.ml.evaluation import RegressionEvaluator\n"
      ],
      "id": "SnOhv3ouLW_X"
    },
    {
      "cell_type": "markdown",
      "metadata": {
        "id": "8o7S9kKnM9lz"
      },
      "source": [
        "Let's first create the training, testing and validation sets:"
      ],
      "id": "8o7S9kKnM9lz"
    },
    {
      "cell_type": "code",
      "execution_count": 33,
      "metadata": {
        "id": "WFOAWC9tNDjh"
      },
      "outputs": [],
      "source": [
        "training_df, validation_df, testing_df = df.randomSplit([0.6, 0.2, 0.2], seed = 1989)"
      ],
      "id": "WFOAWC9tNDjh"
    },
    {
      "cell_type": "code",
      "execution_count": 34,
      "metadata": {
        "id": "F9RSzgPkNLZn",
        "colab": {
          "base_uri": "https://localhost:8080/"
        },
        "outputId": "5bbe2c4e-b8c7-4690-bd6b-5f8569c5df5a"
      },
      "outputs": [
        {
          "output_type": "execute_result",
          "data": {
            "text/plain": [
              "[4617, 1480, 1629]"
            ]
          },
          "metadata": {},
          "execution_count": 34
        }
      ],
      "source": [
        "[training_df.count(), validation_df.count(), testing_df.count()]"
      ],
      "id": "F9RSzgPkNLZn"
    },
    {
      "cell_type": "code",
      "source": [
        "training_df.show()"
      ],
      "metadata": {
        "colab": {
          "base_uri": "https://localhost:8080/"
        },
        "id": "hrQVWaT3HE-t",
        "outputId": "0adc5ad9-29c5-4a18-d85c-14d430bacef6"
      },
      "id": "hrQVWaT3HE-t",
      "execution_count": 35,
      "outputs": [
        {
          "output_type": "stream",
          "name": "stdout",
          "text": [
            "+--------------------+-------------------+------+-------+-----+--------+----+-----+--------------+-----------------+------------+-----------+------------+\n",
            "|                 App|           Category|Rating|Reviews| Size|Installs|Type|Price|Content Rating|           Genres|Last Updated|Current Ver| Android Ver|\n",
            "+--------------------+-------------------+------+-------+-----+--------+----+-----+--------------+-----------------+------------+-----------+------------+\n",
            "|\"Alphabet \"\"H\"\" P...|    PERSONALIZATION|   4.5|      2|  3.0|     100|Free|  0.0|      Everyone|  Personalization|        NULL|          1|  4.1 and up|\n",
            "|\"Eat Fast Prepare...|     FOOD_AND_DRINK|   4.6|   4925| 17.0| 1000000|Free|  0.0|      Everyone|     Food & Drink|        NULL|      3.6.6|4.0.3 and up|\n",
            "|+Download 4 Insta...|             SOCIAL|   4.5|  40467| 22.0| 1000000|Free|  0.0|      Everyone|           Social|        NULL|       5.03|  4.1 and up|\n",
            "|                  .R|              TOOLS|   4.5|    259|0.203|   10000|Free|  0.0|      Everyone|            Tools|        NULL|     1.1.06|  1.5 and up|\n",
            "|              /u/app|      COMMUNICATION|   4.7|    573| 53.0|   10000|Free|  0.0|    Mature 17+|    Communication|        NULL|      4.2.4|  4.1 and up|\n",
            "|              058.ba| NEWS_AND_MAGAZINES|   4.4|     27| 14.0|     100|Free|  0.0|      Everyone| News & Magazines|        NULL|          1|  4.2 and up|\n",
            "|      1. FC Köln App|             SPORTS|   4.6|   2019| 41.0|  100000|Free|  0.0|      Everyone|           Sports|        NULL|     1.13.0|  4.4 and up|\n",
            "|10 Best Foods for...| HEALTH_AND_FITNESS|   4.0|   2490|  3.8|  500000|Free|  0.0|  Everyone 10+| Health & Fitness|        NULL|        1.9|2.3.3 and up|\n",
            "|10 Best Foods for...| HEALTH_AND_FITNESS|   4.0|   2490|  3.8|  500000|Free|  0.0|  Everyone 10+| Health & Fitness|        NULL|        1.9|2.3.3 and up|\n",
            "|10 Minutes a Day ...|             FAMILY|   4.1|    681| 48.0|  100000|Free|  0.0|      Everyone|        Education|        NULL|        1.2|  2.2 and up|\n",
            "|10,000 Quotes DB ...|BOOKS_AND_REFERENCE|   4.1|     70|  3.5|     500|Paid| 0.99|      Everyone|Books & Reference|        NULL|        1.3|  2.1 and up|\n",
            "|100 Doors of Revenge|             FAMILY|   4.1| 105766| 48.0|10000000|Free|  0.0|          Teen|           Puzzle|        NULL|      2.2.2|  4.4 and up|\n",
            "|     100+ C Programs|             FAMILY|   4.2|     20|  1.6|    5000|Free|  0.0|      Everyone|        Education|        NULL|          1|  4.0 and up|\n",
            "|101 C Programming...|             FAMILY|   4.6|    498|  5.0|   50000|Free|  0.0|      Everyone|        Education|        NULL|          2|4.0.3 and up|\n",
            "|104 Looking for a...|           BUSINESS|   4.4|  74359| 25.0| 1000000|Free|  0.0|      Everyone|         Business|        NULL|     1.12.5|  4.0 and up|\n",
            "|                11st|           SHOPPING|   3.8|  48732| 20.0|10000000|Free|  0.0|      Everyone|         Shopping|        NULL|      7.8.1|  4.0 and up|\n",
            "|12 Step Meditatio...|          LIFESTYLE|   4.7|    759| 15.0|   50000|Free|  0.0|  Everyone 10+|        Lifestyle|        NULL|      1.4.5|  4.1 and up|\n",
            "|17th Edition Cabl...|BOOKS_AND_REFERENCE|   4.4|     47|  1.4|    1000|Paid| 3.08|      Everyone|Books & Reference|        NULL|       1.22|  2.2 and up|\n",
            "|1800 Contacts - L...|            MEDICAL|   4.7|  23160| 26.0| 1000000|Free|  0.0|      Everyone|          Medical|        NULL|      7.4.1|  5.0 and up|\n",
            "|1LINE – One Line ...|               GAME|   4.6| 214878| 10.0|10000000|Free|  0.0|      Everyone|            Board|        NULL|      2.0.4|  4.1 and up|\n",
            "+--------------------+-------------------+------+-------+-----+--------+----+-----+--------------+-----------------+------------+-----------+------------+\n",
            "only showing top 20 rows\n",
            "\n"
          ]
        }
      ]
    },
    {
      "cell_type": "code",
      "execution_count": 36,
      "metadata": {
        "id": "POnWW-f4NO2s"
      },
      "outputs": [],
      "source": [
        "lr_model = Pipeline(stages = [\n",
        "  feature.VectorAssembler(inputCols = ['Rating', 'Reviews', 'Size', 'Price'], outputCol = 'features'),\n",
        "  LinearRegression(featuresCol = 'features', labelCol = 'Installs')\n",
        "]).fit(training_df)"
      ],
      "id": "POnWW-f4NO2s"
    },
    {
      "cell_type": "markdown",
      "metadata": {
        "id": "1a0Sc1sjOMnU"
      },
      "source": [
        "Then, we'll evaluate the model on validation dataset and compute the RMSE"
      ],
      "id": "1a0Sc1sjOMnU"
    },
    {
      "cell_type": "code",
      "execution_count": 37,
      "metadata": {
        "id": "fsTT1hRMOncz",
        "colab": {
          "base_uri": "https://localhost:8080/"
        },
        "outputId": "7ee2c8d5-d377-4483-934c-7f66ceed3583"
      },
      "outputs": [
        {
          "output_type": "stream",
          "name": "stdout",
          "text": [
            "44019633.093637645\n"
          ]
        }
      ],
      "source": [
        "import math\n",
        "\n",
        "evaluator = RegressionEvaluator(\n",
        "    labelCol = 'Installs',\n",
        "    predictionCol = 'prediction',\n",
        "    metricName = 'mse')\n",
        "\n",
        "validation_lr = lr_model.transform(validation_df)\n",
        "\n",
        "lr_mse = evaluator.evaluate(validation_lr)\n",
        "\n",
        "lr_rmse = math.sqrt(lr_mse)\n",
        "\n",
        "print(lr_rmse)"
      ],
      "id": "fsTT1hRMOncz"
    },
    {
      "cell_type": "markdown",
      "metadata": {
        "id": "YqDYkWd4PQLj"
      },
      "source": [
        "Fit the pipeline in training dataset"
      ],
      "id": "YqDYkWd4PQLj"
    },
    {
      "cell_type": "code",
      "execution_count": 38,
      "metadata": {
        "id": "0LZLLrE8PWH2",
        "colab": {
          "base_uri": "https://localhost:8080/"
        },
        "outputId": "209b3889-e555-485a-d18f-f9aac723803a"
      },
      "outputs": [
        {
          "output_type": "stream",
          "name": "stdout",
          "text": [
            "+------+-------+-----+-----+--------+------------------+\n",
            "|Rating|Reviews| Size|Price|Installs|        prediction|\n",
            "+------+-------+-----+-----+--------+------------------+\n",
            "|   3.5|    115|  9.1|  0.0|   10000| 3464161.463210894|\n",
            "|   3.5|     10|  3.8| 1.49|     100| 3466787.653278189|\n",
            "|   3.7|    121|  3.8|  0.0|   10000| 3354260.119860238|\n",
            "|   4.2|     33| 13.0|  0.0|    1000|2990685.1858909684|\n",
            "|   3.0|      4|  2.0|  0.0|    1000|3815463.1872808947|\n",
            "|   4.4|  11506| 15.0|  0.0|  100000|3092695.3380018864|\n",
            "|   4.0|    337| 32.0|  0.0|   10000|3054190.0361457574|\n",
            "|   3.5|    224|0.371|  0.0|   10000| 3500140.809015437|\n",
            "|   4.1|  62209|  7.4|  0.0|10000000| 4379367.537578394|\n",
            "|   4.4|   1518| 37.0|  0.0|  100000|2798641.7743088296|\n",
            "|   4.3|   6333| 30.0|  0.0| 1000000| 2991722.625426729|\n",
            "|   4.4|    467|  7.3|  0.0|  100000| 2891289.156309355|\n",
            "|   4.3|    488|  2.5|  0.0|   50000| 2975501.985112235|\n",
            "|   4.2|    268|  2.4|  0.0|   10000|3036525.4223517464|\n",
            "|   4.2|   2058|  2.3|  0.0|  100000| 3074389.898976009|\n",
            "|   4.3|  47698|  4.1|  0.0| 5000000|3957793.0674823816|\n",
            "|   4.4|     32| 37.0|  0.0|    1000|2767528.3882713397|\n",
            "|   3.7|     20| 24.0|  0.0|    5000|3274166.0146637713|\n",
            "|   4.6|   7583|  3.8|  0.0|  500000| 2923306.182364208|\n",
            "|   4.1|     84|  6.1|  0.0|   10000|3083632.9138786793|\n",
            "+------+-------+-----+-----+--------+------------------+\n",
            "only showing top 20 rows\n",
            "\n"
          ]
        }
      ],
      "source": [
        "predictions_lr = lr_model.transform(testing_df)\n",
        "\n",
        "# Show the predictions on the testing data\n",
        "predictions_lr.select('Rating', 'Reviews', 'Size', 'Price', 'Installs', 'prediction').show()"
      ],
      "id": "0LZLLrE8PWH2"
    },
    {
      "cell_type": "code",
      "source": [
        "# Access the Linear Regression model from the pipeline stages\n",
        "lr_model = lr_model.stages[-1]\n",
        "\n",
        "# View the coefficients\n",
        "coefficients = lr_model.coefficients\n",
        "print(\"Coefficients: \", coefficients)\n",
        "\n",
        "# View the intercept\n",
        "intercept = lr_model.intercept\n",
        "print(\"Intercept: \", intercept)"
      ],
      "metadata": {
        "colab": {
          "base_uri": "https://localhost:8080/"
        },
        "id": "be653U4ARAkl",
        "outputId": "b2f7976f-b52b-4498-f169-476658fea454"
      },
      "id": "be653U4ARAkl",
      "execution_count": 39,
      "outputs": [
        {
          "output_type": "stream",
          "name": "stdout",
          "text": [
            "Coefficients:  [-652434.4073735948,20.93767566452893,-3860.366325261007,-10493.488032552037]\n",
            "Intercept:  5780403.391349543\n"
          ]
        }
      ]
    },
    {
      "cell_type": "markdown",
      "metadata": {
        "id": "Js5x85vBQCKU"
      },
      "source": [
        "We can see it's generally not performing very well, but the linear regression model establish a baseline here."
      ],
      "id": "Js5x85vBQCKU"
    },
    {
      "cell_type": "markdown",
      "metadata": {
        "id": "JSxzCJajQKUl"
      },
      "source": [
        "# Building decision tree regressor to predict downloads\n"
      ],
      "id": "JSxzCJajQKUl"
    },
    {
      "cell_type": "code",
      "execution_count": 40,
      "metadata": {
        "id": "Un0I5dPJQR7I"
      },
      "outputs": [],
      "source": [
        "from pyspark.ml.regression import DecisionTreeRegressor\n",
        "\n",
        "dt_model_1 = Pipeline(stages = [\n",
        "  feature.VectorAssembler(inputCols = ['Rating', 'Reviews', 'Size', 'Price'], outputCol = 'features'),\n",
        "  DecisionTreeRegressor(featuresCol = 'features', labelCol = 'Installs')\n",
        "]).fit(training_df)"
      ],
      "id": "Un0I5dPJQR7I"
    },
    {
      "cell_type": "markdown",
      "metadata": {
        "id": "5EPELWu5SFwJ"
      },
      "source": [
        "Evaluate our decision tree model on validation dataset:"
      ],
      "id": "5EPELWu5SFwJ"
    },
    {
      "cell_type": "code",
      "execution_count": 41,
      "metadata": {
        "id": "xx8AaEjZQcGF",
        "colab": {
          "base_uri": "https://localhost:8080/"
        },
        "outputId": "163d2803-4b28-4766-afb1-714aee9b13e4"
      },
      "outputs": [
        {
          "output_type": "stream",
          "name": "stdout",
          "text": [
            "37400491.78732251\n"
          ]
        }
      ],
      "source": [
        "validation_dt_1 = dt_model_1.transform(validation_df)\n",
        "\n",
        "dt_1_mse = evaluator.evaluate(validation_dt_1)\n",
        "\n",
        "dt_1_rmse = math.sqrt(dt_1_mse)\n",
        "\n",
        "print(dt_1_rmse)"
      ],
      "id": "xx8AaEjZQcGF"
    },
    {
      "cell_type": "markdown",
      "metadata": {
        "id": "sVda7raOQ6M9"
      },
      "source": [
        "The RMSE is smaller than the one from linear model, indicating potential improvement in accuracy"
      ],
      "id": "sVda7raOQ6M9"
    },
    {
      "cell_type": "code",
      "execution_count": 42,
      "metadata": {
        "id": "aONZW-xbVca1",
        "colab": {
          "base_uri": "https://localhost:8080/"
        },
        "outputId": "ace2f2df-0048-492b-bf21-ba823082d9bd"
      },
      "outputs": [
        {
          "output_type": "stream",
          "name": "stdout",
          "text": [
            "+------+-------+-----+-----+--------+------------------+\n",
            "|Rating|Reviews| Size|Price|Installs|        prediction|\n",
            "+------+-------+-----+-----+--------+------------------+\n",
            "|   3.5|    115|  9.1|  0.0|   10000|34708.725508317926|\n",
            "|   3.5|     10|  3.8| 1.49|     100|34708.725508317926|\n",
            "|   3.7|    121|  3.8|  0.0|   10000|34708.725508317926|\n",
            "|   4.2|     33| 13.0|  0.0|    1000|34708.725508317926|\n",
            "|   3.0|      4|  2.0|  0.0|    1000|34708.725508317926|\n",
            "|   4.4|  11506| 15.0|  0.0|  100000|  850534.188034188|\n",
            "|   4.0|    337| 32.0|  0.0|   10000|34708.725508317926|\n",
            "|   3.5|    224|0.371|  0.0|   10000|34708.725508317926|\n",
            "|   4.1|  62209|  7.4|  0.0|10000000|3483879.0931989923|\n",
            "|   4.4|   1518| 37.0|  0.0|  100000|34708.725508317926|\n",
            "|   4.3|   6333| 30.0|  0.0| 1000000|  850534.188034188|\n",
            "|   4.4|    467|  7.3|  0.0|  100000|34708.725508317926|\n",
            "|   4.3|    488|  2.5|  0.0|   50000|34708.725508317926|\n",
            "|   4.2|    268|  2.4|  0.0|   10000|34708.725508317926|\n",
            "|   4.2|   2058|  2.3|  0.0|  100000|375034.64203233254|\n",
            "|   4.3|  47698|  4.1|  0.0| 5000000|3483879.0931989923|\n",
            "|   4.4|     32| 37.0|  0.0|    1000|34708.725508317926|\n",
            "|   3.7|     20| 24.0|  0.0|    5000|34708.725508317926|\n",
            "|   4.6|   7583|  3.8|  0.0|  500000|  850534.188034188|\n",
            "|   4.1|     84|  6.1|  0.0|   10000|34708.725508317926|\n",
            "+------+-------+-----+-----+--------+------------------+\n",
            "only showing top 20 rows\n",
            "\n"
          ]
        }
      ],
      "source": [
        "# Make predictions with Decision Tree Model 1 on testing set\n",
        "predictions_dt = dt_model_1.transform(testing_df)\n",
        "\n",
        "# Show the predictions on the testing data\n",
        "predictions_dt.select('Rating', 'Reviews', 'Size', 'Price', 'Installs', 'prediction').show()"
      ],
      "id": "aONZW-xbVca1"
    },
    {
      "cell_type": "markdown",
      "metadata": {
        "id": "brhnmzBmTtCh"
      },
      "source": [
        "Next, we'll include categorical variables into decision tree models:\n"
      ],
      "id": "brhnmzBmTtCh"
    },
    {
      "cell_type": "code",
      "execution_count": 43,
      "metadata": {
        "id": "5avIKA54Tz6P"
      },
      "outputs": [],
      "source": [
        "from pyspark.ml.feature import VectorAssembler, StringIndexer, OneHotEncoder\n",
        "# Categorical variables\n",
        "categorical_cols = ['Category', 'Type', 'Content Rating', 'Genres']\n",
        "\n",
        "# StringIndexer for each categorical variable\n",
        "indexers = [StringIndexer(inputCol=col, outputCol=col + 'Index', handleInvalid='keep') for col in categorical_cols]\n",
        "\n",
        "# OneHotEncoder for each indexed categorical variable\n",
        "encoders = [OneHotEncoder(inputCol=col + 'Index', outputCol=col + 'OneHot') for col in categorical_cols]\n",
        "\n",
        "# Combine all input features (including one-hot encoded categorical features)\n",
        "feature_columns = ['Rating', 'Reviews', 'Size', 'Price'] + [col + 'OneHot' for col in categorical_cols]\n",
        "\n",
        "# VectorAssembler to assemble all features\n",
        "vector_assembler = VectorAssembler(inputCols=feature_columns, outputCol='features')\n",
        "\n",
        "# DecisionTreeRegressor\n",
        "dt_model_2 = DecisionTreeRegressor(featuresCol='features', labelCol='Installs')\n",
        "\n",
        "# Create a Pipeline\n",
        "dt_pipeline_2 = Pipeline(stages=indexers + encoders + [vector_assembler, dt_model_2])\n",
        "\n",
        "# Train the model\n",
        "dt_model_2 = dt_pipeline_2.fit(training_df)"
      ],
      "id": "5avIKA54Tz6P"
    },
    {
      "cell_type": "code",
      "execution_count": 44,
      "metadata": {
        "id": "2fmDzqPtXOZU",
        "colab": {
          "base_uri": "https://localhost:8080/"
        },
        "outputId": "e0c8c425-eb20-4667-b3cf-a0afffb2f029"
      },
      "outputs": [
        {
          "output_type": "stream",
          "name": "stdout",
          "text": [
            "33449809.81180949\n"
          ]
        }
      ],
      "source": [
        "# Evaluate Model 2 on validation dataset\n",
        "dt_predictions_2 = dt_model_2.transform(validation_df)\n",
        "dt_2_mse = evaluator.evaluate(dt_predictions_2)\n",
        "dt_2_rmse = math.sqrt(dt_2_mse)\n",
        "\n",
        "print(dt_2_rmse)"
      ],
      "id": "2fmDzqPtXOZU"
    },
    {
      "cell_type": "code",
      "execution_count": 45,
      "metadata": {
        "id": "q1JMVkJOU5Ka",
        "colab": {
          "base_uri": "https://localhost:8080/"
        },
        "outputId": "e4038a9f-3fd1-4e0b-dca2-fe2fbbb3ffdb"
      },
      "outputs": [
        {
          "output_type": "stream",
          "name": "stdout",
          "text": [
            "3950681.975513015\n"
          ]
        }
      ],
      "source": [
        "print(dt_1_rmse - dt_2_rmse)"
      ],
      "id": "q1JMVkJOU5Ka"
    },
    {
      "cell_type": "markdown",
      "metadata": {
        "id": "u_MAtknFU9EW"
      },
      "source": [
        "The decision tree model that includes categorical variables improve compared with the one with only numeric variables."
      ],
      "id": "u_MAtknFU9EW"
    },
    {
      "cell_type": "code",
      "execution_count": 46,
      "metadata": {
        "id": "vpbZv2dPRCTY",
        "colab": {
          "base_uri": "https://localhost:8080/"
        },
        "outputId": "363dfb9f-5761-41be-89d4-1e2b54da8ed3"
      },
      "outputs": [
        {
          "output_type": "stream",
          "name": "stdout",
          "text": [
            "+------+-------+-----+-----+------------------+----+--------------+--------------------+------------------+--------+\n",
            "|Rating|Reviews| Size|Price|          Category|Type|Content Rating|              Genres|        prediction|Installs|\n",
            "+------+-------+-----+-----+------------------+----+--------------+--------------------+------------------+--------+\n",
            "|   3.5|    115|  9.1|  0.0|            COMICS|Free|    Mature 17+|              Comics|34708.725508317926|   10000|\n",
            "|   3.5|     10|  3.8| 1.49|     COMMUNICATION|Paid|      Everyone|       Communication|34708.725508317926|     100|\n",
            "|   3.7|    121|  3.8|  0.0|         LIFESTYLE|Free|    Mature 17+|           Lifestyle|34708.725508317926|   10000|\n",
            "|   4.2|     33| 13.0|  0.0|              GAME|Free|          Teen|              Action|34708.725508317926|    1000|\n",
            "|   3.0|      4|  2.0|  0.0|             TOOLS|Free|      Everyone|               Tools|34708.725508317926|    1000|\n",
            "|   4.4|  11506| 15.0|  0.0|HEALTH_AND_FITNESS|Free|      Everyone|    Health & Fitness|  850534.188034188|  100000|\n",
            "|   4.0|    337| 32.0|  0.0|            DATING|Free|    Mature 17+|              Dating|34708.725508317926|   10000|\n",
            "|   3.5|    224|0.371|  0.0|HEALTH_AND_FITNESS|Free|      Everyone|    Health & Fitness|34708.725508317926|   10000|\n",
            "|   4.1|  62209|  7.4|  0.0|   PERSONALIZATION|Free|      Everyone|     Personalization| 2948220.640569395|10000000|\n",
            "|   4.4|   1518| 37.0|  0.0|    ART_AND_DESIGN|Free|      Everyone|        Art & Design|34708.725508317926|  100000|\n",
            "|   4.3|   6333| 30.0|  0.0|            FAMILY|Free|      Everyone|       Entertainment|  850534.188034188| 1000000|\n",
            "|   4.4|    467|  7.3|  0.0|    FOOD_AND_DRINK|Free|      Everyone|        Food & Drink|34708.725508317926|  100000|\n",
            "|   4.3|    488|  2.5|  0.0|     COMMUNICATION|Free|      Everyone|       Communication|34708.725508317926|   50000|\n",
            "|   4.2|    268|  2.4|  0.0|             TOOLS|Free|      Everyone|               Tools|34708.725508317926|   10000|\n",
            "|   4.2|   2058|  2.3|  0.0|             TOOLS|Free|      Everyone|               Tools|375034.64203233254|  100000|\n",
            "|   4.3|  47698|  4.1|  0.0|              GAME|Free|      Everyone|               Board| 2948220.640569395| 5000000|\n",
            "|   4.4|     32| 37.0|  0.0|            FAMILY|Free|      Everyone|          Simulation|34708.725508317926|    1000|\n",
            "|   3.7|     20| 24.0|  0.0|     VIDEO_PLAYERS|Free|      Everyone|Video Players & E...|34708.725508317926|    5000|\n",
            "|   4.6|   7583|  3.8|  0.0|   PERSONALIZATION|Free|  Everyone 10+|     Personalization|  850534.188034188|  500000|\n",
            "|   4.1|     84|  6.1|  0.0|           MEDICAL|Free|      Everyone|             Medical|34708.725508317926|   10000|\n",
            "+------+-------+-----+-----+------------------+----+--------------+--------------------+------------------+--------+\n",
            "only showing top 20 rows\n",
            "\n"
          ]
        }
      ],
      "source": [
        "predictions_dt_2 = dt_model_2.transform(testing_df)\n",
        "\n",
        "# Show the predictions on the testing data\n",
        "predictions_dt_2.select('Rating', 'Reviews', 'Size', 'Price','Category', 'Type', 'Content Rating', 'Genres', 'prediction', 'Installs').show()"
      ],
      "id": "vpbZv2dPRCTY"
    },
    {
      "cell_type": "markdown",
      "metadata": {
        "id": "7A_S4qHJRQPo"
      },
      "source": [
        "# Buidling random forest model:"
      ],
      "id": "7A_S4qHJRQPo"
    },
    {
      "cell_type": "code",
      "execution_count": 47,
      "metadata": {
        "id": "-tnUFB05SoAl"
      },
      "outputs": [],
      "source": [
        "from pyspark.ml.regression import RandomForestRegressor\n",
        "\n",
        "rf = RandomForestRegressor(featuresCol='features', labelCol='Installs', numTrees=100)\n",
        "\n",
        "# Create a Pipeline\n",
        "rf_pipeline = Pipeline(stages=indexers + encoders + [vector_assembler, rf])\n",
        "\n",
        "# Train the model\n",
        "rf_model = rf_pipeline.fit(training_df)"
      ],
      "id": "-tnUFB05SoAl"
    },
    {
      "cell_type": "code",
      "execution_count": 48,
      "metadata": {
        "id": "dXjB18W9X4l0",
        "colab": {
          "base_uri": "https://localhost:8080/"
        },
        "outputId": "4fe5fe94-fd3d-4b20-e89b-98e108f9f8ef"
      },
      "outputs": [
        {
          "output_type": "stream",
          "name": "stdout",
          "text": [
            "37400491.78732251\n",
            "31498354.208011024\n"
          ]
        }
      ],
      "source": [
        "# Evaluate the model on validation set\n",
        "rf_predictions = rf_model.transform(validation_df)\n",
        "rf_evaluator = RegressionEvaluator(labelCol='Installs', predictionCol='prediction', metricName='mse')\n",
        "rf_mse = rf_evaluator.evaluate(rf_predictions)\n",
        "rf_rmse = math.sqrt(rf_mse)\n",
        "\n",
        "print(dt_1_rmse)\n",
        "print(rf_rmse)"
      ],
      "id": "dXjB18W9X4l0"
    },
    {
      "cell_type": "code",
      "execution_count": 49,
      "metadata": {
        "id": "bfZOGSV8TMgO",
        "colab": {
          "base_uri": "https://localhost:8080/"
        },
        "outputId": "909f5ad4-cba4-435b-a6ff-a402f73f8102"
      },
      "outputs": [
        {
          "output_type": "stream",
          "name": "stdout",
          "text": [
            "1951455.6037984677\n"
          ]
        }
      ],
      "source": [
        "print(dt_2_rmse - rf_rmse)"
      ],
      "id": "bfZOGSV8TMgO"
    },
    {
      "cell_type": "markdown",
      "metadata": {
        "id": "qtt041e6TSj0"
      },
      "source": [
        "Random forest model preform better than the decision tree model"
      ],
      "id": "qtt041e6TSj0"
    },
    {
      "cell_type": "code",
      "execution_count": 50,
      "metadata": {
        "id": "jWEepPzATMp2",
        "colab": {
          "base_uri": "https://localhost:8080/"
        },
        "outputId": "0a039e5f-4f21-4dbd-c99c-fd613ba3fc3a"
      },
      "outputs": [
        {
          "output_type": "stream",
          "name": "stdout",
          "text": [
            "+------+-------+-----+-----+------------------+----+--------------+--------------------+------------------+--------+\n",
            "|Rating|Reviews| Size|Price|          Category|Type|Content Rating|              Genres|        prediction|Installs|\n",
            "+------+-------+-----+-----+------------------+----+--------------+--------------------+------------------+--------+\n",
            "|   3.5|    115|  9.1|  0.0|            COMICS|Free|    Mature 17+|              Comics| 1122892.979193605|   10000|\n",
            "|   3.5|     10|  3.8| 1.49|     COMMUNICATION|Paid|      Everyone|       Communication| 794748.4132635493|     100|\n",
            "|   3.7|    121|  3.8|  0.0|         LIFESTYLE|Free|    Mature 17+|           Lifestyle|1082629.5937033175|   10000|\n",
            "|   4.2|     33| 13.0|  0.0|              GAME|Free|          Teen|              Action|3273390.9591343445|    1000|\n",
            "|   3.0|      4|  2.0|  0.0|             TOOLS|Free|      Everyone|               Tools|1160111.8848743846|    1000|\n",
            "|   4.4|  11506| 15.0|  0.0|HEALTH_AND_FITNESS|Free|      Everyone|    Health & Fitness|1983964.5809610581|  100000|\n",
            "|   4.0|    337| 32.0|  0.0|            DATING|Free|    Mature 17+|              Dating|1732393.7573466909|   10000|\n",
            "|   3.5|    224|0.371|  0.0|HEALTH_AND_FITNESS|Free|      Everyone|    Health & Fitness|1274747.9281901896|   10000|\n",
            "|   4.1|  62209|  7.4|  0.0|   PERSONALIZATION|Free|      Everyone|     Personalization|1926125.1592263302|10000000|\n",
            "|   4.4|   1518| 37.0|  0.0|    ART_AND_DESIGN|Free|      Everyone|        Art & Design|2975036.1926661395|  100000|\n",
            "|   4.3|   6333| 30.0|  0.0|            FAMILY|Free|      Everyone|       Entertainment|1854922.6120819075| 1000000|\n",
            "|   4.4|    467|  7.3|  0.0|    FOOD_AND_DRINK|Free|      Everyone|        Food & Drink|1496844.7398070886|  100000|\n",
            "|   4.3|    488|  2.5|  0.0|     COMMUNICATION|Free|      Everyone|       Communication| 4743822.162116852|   50000|\n",
            "|   4.2|    268|  2.4|  0.0|             TOOLS|Free|      Everyone|               Tools|1537440.0549801474|   10000|\n",
            "|   4.2|   2058|  2.3|  0.0|             TOOLS|Free|      Everyone|               Tools|1537440.0549801474|  100000|\n",
            "|   4.3|  47698|  4.1|  0.0|              GAME|Free|      Everyone|               Board| 4829275.608919572| 5000000|\n",
            "|   4.4|     32| 37.0|  0.0|            FAMILY|Free|      Everyone|          Simulation| 2438526.069686654|    1000|\n",
            "|   3.7|     20| 24.0|  0.0|     VIDEO_PLAYERS|Free|      Everyone|Video Players & E...|1653247.4798348479|    5000|\n",
            "|   4.6|   7583|  3.8|  0.0|   PERSONALIZATION|Free|  Everyone 10+|     Personalization| 1592468.139502679|  500000|\n",
            "|   4.1|     84|  6.1|  0.0|           MEDICAL|Free|      Everyone|             Medical|1427063.6311683478|   10000|\n",
            "+------+-------+-----+-----+------------------+----+--------------+--------------------+------------------+--------+\n",
            "only showing top 20 rows\n",
            "\n"
          ]
        }
      ],
      "source": [
        "predictions_rf = rf_model.transform(testing_df)\n",
        "\n",
        "# Show the predictions on the testing data\n",
        "predictions_rf.select('Rating', 'Reviews', 'Size', 'Price','Category', 'Type', 'Content Rating', 'Genres', 'prediction', 'Installs').show()"
      ],
      "id": "jWEepPzATMp2"
    },
    {
      "cell_type": "markdown",
      "metadata": {
        "id": "9FM8D64lYbWS"
      },
      "source": [
        "As we can see, although the random forest model performs better, the predictions are still far off. Next, we'll continue to explore other models that work well with weak predictors, i.e. gradient boosting trees, etc, as well as harnessing the power of unsupervised learning.\n"
      ],
      "id": "9FM8D64lYbWS"
    },
    {
      "cell_type": "markdown",
      "source": [
        "# Gradient boost"
      ],
      "metadata": {
        "id": "5ySMh2NWoBuK"
      },
      "id": "5ySMh2NWoBuK"
    },
    {
      "cell_type": "code",
      "source": [
        "from pyspark.sql import functions as f, Row\n",
        "from pyspark.ml import feature, regression, evaluation, Pipeline\n",
        "from pyspark.ml.feature import StandardScaler\n",
        "from pyspark.ml.feature import VectorAssembler\n",
        "from pyspark.ml.regression import GBTRegressor\n",
        "from pyspark.ml.tuning import ParamGridBuilder, CrossValidator"
      ],
      "metadata": {
        "id": "yUqg74PyoBU4"
      },
      "execution_count": 51,
      "outputs": [],
      "id": "yUqg74PyoBU4"
    },
    {
      "cell_type": "code",
      "source": [
        "#making a copy of original dataframe\n",
        "df_GB= df.select([col(column).alias(column) for column in df.columns])"
      ],
      "metadata": {
        "id": "bh0l_ZptnwfO"
      },
      "execution_count": 52,
      "outputs": [],
      "id": "bh0l_ZptnwfO"
    },
    {
      "cell_type": "code",
      "source": [],
      "metadata": {
        "id": "L6MbPHVIV3Q4"
      },
      "id": "L6MbPHVIV3Q4",
      "execution_count": 52,
      "outputs": []
    },
    {
      "cell_type": "code",
      "source": [
        "# defining the vector assembler and transforming the GB_df with output col 'features'\n",
        "va_GB = VectorAssembler(inputCols=['Rating', 'Reviews', 'Size', 'Price'],\n",
        "                        outputCol='features')\n",
        "\n",
        "GB_df = va_GB.transform(df)"
      ],
      "metadata": {
        "id": "M-p45dHpnwc6"
      },
      "execution_count": 53,
      "outputs": [],
      "id": "M-p45dHpnwc6"
    },
    {
      "cell_type": "code",
      "source": [
        "#standardizing the feature col\n",
        "sc = StandardScaler(withMean=True, inputCol='features', outputCol='zfeatures')\n",
        "GB_scaled= sc.fit(GB_df).transform(GB_df)"
      ],
      "metadata": {
        "id": "QY5HQWh5o8S6"
      },
      "execution_count": 54,
      "outputs": [],
      "id": "QY5HQWh5o8S6"
    },
    {
      "cell_type": "code",
      "source": [
        "# List of categorical column names to drop\n",
        "categorical_cols = ['App', 'Category', 'Type', 'Content Rating', 'Genres', 'Last Updated', 'Current Ver', 'Android Ver']\n",
        "\n",
        "# Drop categorical columns from the DataFrame\n",
        "GB_scaled = GB_scaled.drop(*categorical_cols)"
      ],
      "metadata": {
        "id": "g1CVxPCrBSXh"
      },
      "execution_count": 55,
      "outputs": [],
      "id": "g1CVxPCrBSXh"
    },
    {
      "cell_type": "code",
      "source": [
        "#splitting the df into training and testing\n",
        "training_df_GB, testing_df_GB = GB_scaled.randomSplit([0.8,0.2], seed = 1989)"
      ],
      "metadata": {
        "id": "x9pUZqICtrLy"
      },
      "execution_count": 56,
      "outputs": [],
      "id": "x9pUZqICtrLy"
    },
    {
      "cell_type": "code",
      "source": [
        "#building the Gradient boost model\n",
        "GB_model = GBTRegressor(featuresCol= 'zfeatures', labelCol= 'Installs', seed=1989,maxDepth=4, maxIter=100, stepSize=0.1)"
      ],
      "metadata": {
        "id": "-z_cQtLVop0D"
      },
      "execution_count": 57,
      "outputs": [],
      "id": "-z_cQtLVop0D"
    },
    {
      "cell_type": "code",
      "source": [
        "# Train the model on the training data\n",
        "GB_trained_model = GB_model.fit(training_df_GB)"
      ],
      "metadata": {
        "id": "xtoFEVks6Vz8"
      },
      "execution_count": 58,
      "outputs": [],
      "id": "xtoFEVks6Vz8"
    },
    {
      "cell_type": "code",
      "source": [
        "#predincting from test data\n",
        "GB_predictions = GB_trained_model.transform(testing_df_GB)"
      ],
      "metadata": {
        "id": "ZzOv_hFArqPg"
      },
      "execution_count": 59,
      "outputs": [],
      "id": "ZzOv_hFArqPg"
    },
    {
      "cell_type": "code",
      "source": [
        "GB_predictions.show()"
      ],
      "metadata": {
        "colab": {
          "base_uri": "https://localhost:8080/"
        },
        "id": "CDUzk2IRQAEM",
        "outputId": "339757a0-8cc9-40ff-c94e-41b54db88286"
      },
      "id": "CDUzk2IRQAEM",
      "execution_count": 60,
      "outputs": [
        {
          "output_type": "stream",
          "name": "stdout",
          "text": [
            "+------+-------+----+--------+-----+--------------------+--------------------+------------------+\n",
            "|Rating|Reviews|Size|Installs|Price|            features|           zfeatures|        prediction|\n",
            "+------+-------+----+--------+-----+--------------------+--------------------+------------------+\n",
            "|   1.0|      1| 4.9|    1000|  0.0|[1.0,1.0,4.900000...|[-5.8273744823627...|50005.969132619924|\n",
            "|   1.0|      2|21.0|    1000|  0.0|  [1.0,2.0,21.0,0.0]|[-5.8273744823627...|-52544.14184311065|\n",
            "|   1.0|      5|13.0|     100|  0.0|  [1.0,5.0,13.0,0.0]|[-5.8273744823627...| 96813.47873648709|\n",
            "|   1.6|    242|36.0|   50000|  0.0|[1.60000002384185...|[-4.7257184014246...|362035.53771805495|\n",
            "|   1.7|     14|13.0|    1000|  0.0|[1.70000004768371...|[-4.5421090181217...| 96813.47873648709|\n",
            "|   1.7|   1172| 5.6|   10000|  0.0|[1.70000004768371...|[-4.5421090181217...|164473.76064201884|\n",
            "|   1.8|     53| 3.4|    1000| 1.49|[1.79999995231628...|[-4.3584998536982...| 6943.033857056401|\n",
            "|   1.9|     16| 2.6|    1000|  0.0|[1.89999997615814...|[-4.1748904703953...| 65492.35882214109|\n",
            "|   1.9|    179|10.0|   10000|  0.0|[1.89999997615814...|[-4.1748904703953...|122237.41838213566|\n",
            "|   1.9|    953|19.0|  100000|  0.0|[1.89999997615814...|[-4.1748904703953...|28772.607341212042|\n",
            "|   2.0|      1|29.0|      50|  0.0|  [2.0,1.0,29.0,0.0]|[-3.9912810870924...|-204934.6505427911|\n",
            "|   2.0|     16|17.0|    1000|  0.0| [2.0,16.0,17.0,0.0]|[-3.9912810870924...|  86924.3810634865|\n",
            "|   2.0|    136|15.0|   10000|  0.0|[2.0,136.0,15.0,0.0]|[-3.9912810870924...| 96813.47873648709|\n",
            "|   2.0|    207| 2.9|   10000|  0.0|[2.0,207.0,2.9000...|[-3.9912810870924...| 65492.35882214109|\n",
            "|   2.0|    314|35.0|   10000|  0.0|[2.0,314.0,35.0,0.0]|[-3.9912810870924...|362035.53771805495|\n",
            "|   2.0|   2221| 4.9| 5000000|  0.0|[2.0,2221.0,4.900...|[-3.9912810870924...| 275983.4615358144|\n",
            "|   2.1|     14|28.0|    1000|  0.0|[2.09999990463256...|[-3.8076719226688...|-204934.6505427911|\n",
            "|   2.1|     87|26.0|    5000|  0.0|[2.09999990463256...|[-3.8076719226688...|10975.593781858242|\n",
            "|   2.1|    149| 2.8|   50000|  0.0|[2.09999990463256...|[-3.8076719226688...| 65492.35882214109|\n",
            "|   2.2|     19| 2.1|    1000|  0.0|[2.20000004768371...|[-3.6240623204865...| 65492.35882214109|\n",
            "+------+-------+----+--------+-----+--------------------+--------------------+------------------+\n",
            "only showing top 20 rows\n",
            "\n"
          ]
        }
      ]
    },
    {
      "cell_type": "code",
      "source": [
        "#Evaluation\n",
        "rmse_eval = RegressionEvaluator(labelCol='Installs', metricName='rmse')\n"
      ],
      "metadata": {
        "id": "FBc2lJ7vopxp"
      },
      "execution_count": 61,
      "outputs": [],
      "id": "FBc2lJ7vopxp"
    },
    {
      "cell_type": "code",
      "source": [
        "print('RMSE:', rmse_eval.evaluate(GB_predictions))"
      ],
      "metadata": {
        "colab": {
          "base_uri": "https://localhost:8080/"
        },
        "id": "slCu9ttOzYKx",
        "outputId": "822fff73-7336-465e-c4d0-00101de36237"
      },
      "execution_count": 62,
      "outputs": [
        {
          "output_type": "stream",
          "name": "stdout",
          "text": [
            "RMSE: 23112197.87328654\n"
          ]
        }
      ],
      "id": "slCu9ttOzYKx"
    },
    {
      "cell_type": "markdown",
      "source": [
        "The RMSE on test data is lower than any of the previos models"
      ],
      "metadata": {
        "id": "1Jf_ghfl9DTo"
      },
      "id": "1Jf_ghfl9DTo"
    },
    {
      "cell_type": "code",
      "source": [
        "# Get feature importance scores\n",
        "feature_importances = GB_trained_model.featureImportances\n",
        "\n",
        "# Define feature names in the correct order\n",
        "feature_names = ['Rating', 'Reviews', 'Size', 'Price']\n",
        "\n",
        "# Print feature importance scores\n",
        "for feature, importance in zip(feature_names, feature_importances):\n",
        "    print(f\"Feature: {feature}, Importance: {importance}\")"
      ],
      "metadata": {
        "colab": {
          "base_uri": "https://localhost:8080/"
        },
        "id": "_FVe8aT-r2Bx",
        "outputId": "9ce266b4-8f3d-44a7-9685-6c6419d350fb"
      },
      "execution_count": 63,
      "outputs": [
        {
          "output_type": "stream",
          "name": "stdout",
          "text": [
            "Feature: Rating, Importance: 0.207404231004732\n",
            "Feature: Reviews, Importance: 0.2851056550542724\n",
            "Feature: Size, Importance: 0.5074487892762116\n",
            "Feature: Price, Importance: 4.1324664783975724e-05\n"
          ]
        }
      ],
      "id": "_FVe8aT-r2Bx"
    },
    {
      "cell_type": "markdown",
      "source": [
        "# PCA"
      ],
      "metadata": {
        "id": "KjIKUhe0R2c3"
      },
      "id": "KjIKUhe0R2c3"
    },
    {
      "cell_type": "markdown",
      "source": [
        "## PCA (by categories)"
      ],
      "metadata": {
        "id": "Ww9vWx6gOrJY"
      },
      "id": "Ww9vWx6gOrJY"
    },
    {
      "cell_type": "code",
      "source": [
        "import pandas as pd\n",
        "\n",
        "df_pd = df.toPandas()\n",
        "df_pd = df_pd.iloc[:,1:6]\n",
        "df_pd__scaled = df_pd.iloc[:,1:]\n",
        "df_pd__scaled.head()"
      ],
      "metadata": {
        "id": "LQpx3NvXHJgB",
        "colab": {
          "base_uri": "https://localhost:8080/",
          "height": 206
        },
        "outputId": "122d1732-c42b-4044-905e-c5c89607a607"
      },
      "id": "LQpx3NvXHJgB",
      "execution_count": 64,
      "outputs": [
        {
          "output_type": "execute_result",
          "data": {
            "text/plain": [
              "   Rating  Reviews  Size  Installs\n",
              "0     4.1      159  19.0     10000\n",
              "1     3.9      967  14.0    500000\n",
              "2     4.7    87510   8.7   5000000\n",
              "3     4.5   215644  25.0  50000000\n",
              "4     4.3      967   2.8    100000"
            ],
            "text/html": [
              "\n",
              "  <div id=\"df-a288c470-2daa-4791-84cc-437b663b6322\" class=\"colab-df-container\">\n",
              "    <div>\n",
              "<style scoped>\n",
              "    .dataframe tbody tr th:only-of-type {\n",
              "        vertical-align: middle;\n",
              "    }\n",
              "\n",
              "    .dataframe tbody tr th {\n",
              "        vertical-align: top;\n",
              "    }\n",
              "\n",
              "    .dataframe thead th {\n",
              "        text-align: right;\n",
              "    }\n",
              "</style>\n",
              "<table border=\"1\" class=\"dataframe\">\n",
              "  <thead>\n",
              "    <tr style=\"text-align: right;\">\n",
              "      <th></th>\n",
              "      <th>Rating</th>\n",
              "      <th>Reviews</th>\n",
              "      <th>Size</th>\n",
              "      <th>Installs</th>\n",
              "    </tr>\n",
              "  </thead>\n",
              "  <tbody>\n",
              "    <tr>\n",
              "      <th>0</th>\n",
              "      <td>4.1</td>\n",
              "      <td>159</td>\n",
              "      <td>19.0</td>\n",
              "      <td>10000</td>\n",
              "    </tr>\n",
              "    <tr>\n",
              "      <th>1</th>\n",
              "      <td>3.9</td>\n",
              "      <td>967</td>\n",
              "      <td>14.0</td>\n",
              "      <td>500000</td>\n",
              "    </tr>\n",
              "    <tr>\n",
              "      <th>2</th>\n",
              "      <td>4.7</td>\n",
              "      <td>87510</td>\n",
              "      <td>8.7</td>\n",
              "      <td>5000000</td>\n",
              "    </tr>\n",
              "    <tr>\n",
              "      <th>3</th>\n",
              "      <td>4.5</td>\n",
              "      <td>215644</td>\n",
              "      <td>25.0</td>\n",
              "      <td>50000000</td>\n",
              "    </tr>\n",
              "    <tr>\n",
              "      <th>4</th>\n",
              "      <td>4.3</td>\n",
              "      <td>967</td>\n",
              "      <td>2.8</td>\n",
              "      <td>100000</td>\n",
              "    </tr>\n",
              "  </tbody>\n",
              "</table>\n",
              "</div>\n",
              "    <div class=\"colab-df-buttons\">\n",
              "\n",
              "  <div class=\"colab-df-container\">\n",
              "    <button class=\"colab-df-convert\" onclick=\"convertToInteractive('df-a288c470-2daa-4791-84cc-437b663b6322')\"\n",
              "            title=\"Convert this dataframe to an interactive table.\"\n",
              "            style=\"display:none;\">\n",
              "\n",
              "  <svg xmlns=\"http://www.w3.org/2000/svg\" height=\"24px\" viewBox=\"0 -960 960 960\">\n",
              "    <path d=\"M120-120v-720h720v720H120Zm60-500h600v-160H180v160Zm220 220h160v-160H400v160Zm0 220h160v-160H400v160ZM180-400h160v-160H180v160Zm440 0h160v-160H620v160ZM180-180h160v-160H180v160Zm440 0h160v-160H620v160Z\"/>\n",
              "  </svg>\n",
              "    </button>\n",
              "\n",
              "  <style>\n",
              "    .colab-df-container {\n",
              "      display:flex;\n",
              "      gap: 12px;\n",
              "    }\n",
              "\n",
              "    .colab-df-convert {\n",
              "      background-color: #E8F0FE;\n",
              "      border: none;\n",
              "      border-radius: 50%;\n",
              "      cursor: pointer;\n",
              "      display: none;\n",
              "      fill: #1967D2;\n",
              "      height: 32px;\n",
              "      padding: 0 0 0 0;\n",
              "      width: 32px;\n",
              "    }\n",
              "\n",
              "    .colab-df-convert:hover {\n",
              "      background-color: #E2EBFA;\n",
              "      box-shadow: 0px 1px 2px rgba(60, 64, 67, 0.3), 0px 1px 3px 1px rgba(60, 64, 67, 0.15);\n",
              "      fill: #174EA6;\n",
              "    }\n",
              "\n",
              "    .colab-df-buttons div {\n",
              "      margin-bottom: 4px;\n",
              "    }\n",
              "\n",
              "    [theme=dark] .colab-df-convert {\n",
              "      background-color: #3B4455;\n",
              "      fill: #D2E3FC;\n",
              "    }\n",
              "\n",
              "    [theme=dark] .colab-df-convert:hover {\n",
              "      background-color: #434B5C;\n",
              "      box-shadow: 0px 1px 3px 1px rgba(0, 0, 0, 0.15);\n",
              "      filter: drop-shadow(0px 1px 2px rgba(0, 0, 0, 0.3));\n",
              "      fill: #FFFFFF;\n",
              "    }\n",
              "  </style>\n",
              "\n",
              "    <script>\n",
              "      const buttonEl =\n",
              "        document.querySelector('#df-a288c470-2daa-4791-84cc-437b663b6322 button.colab-df-convert');\n",
              "      buttonEl.style.display =\n",
              "        google.colab.kernel.accessAllowed ? 'block' : 'none';\n",
              "\n",
              "      async function convertToInteractive(key) {\n",
              "        const element = document.querySelector('#df-a288c470-2daa-4791-84cc-437b663b6322');\n",
              "        const dataTable =\n",
              "          await google.colab.kernel.invokeFunction('convertToInteractive',\n",
              "                                                    [key], {});\n",
              "        if (!dataTable) return;\n",
              "\n",
              "        const docLinkHtml = 'Like what you see? Visit the ' +\n",
              "          '<a target=\"_blank\" href=https://colab.research.google.com/notebooks/data_table.ipynb>data table notebook</a>'\n",
              "          + ' to learn more about interactive tables.';\n",
              "        element.innerHTML = '';\n",
              "        dataTable['output_type'] = 'display_data';\n",
              "        await google.colab.output.renderOutput(dataTable, element);\n",
              "        const docLink = document.createElement('div');\n",
              "        docLink.innerHTML = docLinkHtml;\n",
              "        element.appendChild(docLink);\n",
              "      }\n",
              "    </script>\n",
              "  </div>\n",
              "\n",
              "\n",
              "<div id=\"df-32d59803-9156-47f1-9386-ad5f1ea3ca1e\">\n",
              "  <button class=\"colab-df-quickchart\" onclick=\"quickchart('df-32d59803-9156-47f1-9386-ad5f1ea3ca1e')\"\n",
              "            title=\"Suggest charts\"\n",
              "            style=\"display:none;\">\n",
              "\n",
              "<svg xmlns=\"http://www.w3.org/2000/svg\" height=\"24px\"viewBox=\"0 0 24 24\"\n",
              "     width=\"24px\">\n",
              "    <g>\n",
              "        <path d=\"M19 3H5c-1.1 0-2 .9-2 2v14c0 1.1.9 2 2 2h14c1.1 0 2-.9 2-2V5c0-1.1-.9-2-2-2zM9 17H7v-7h2v7zm4 0h-2V7h2v10zm4 0h-2v-4h2v4z\"/>\n",
              "    </g>\n",
              "</svg>\n",
              "  </button>\n",
              "\n",
              "<style>\n",
              "  .colab-df-quickchart {\n",
              "      --bg-color: #E8F0FE;\n",
              "      --fill-color: #1967D2;\n",
              "      --hover-bg-color: #E2EBFA;\n",
              "      --hover-fill-color: #174EA6;\n",
              "      --disabled-fill-color: #AAA;\n",
              "      --disabled-bg-color: #DDD;\n",
              "  }\n",
              "\n",
              "  [theme=dark] .colab-df-quickchart {\n",
              "      --bg-color: #3B4455;\n",
              "      --fill-color: #D2E3FC;\n",
              "      --hover-bg-color: #434B5C;\n",
              "      --hover-fill-color: #FFFFFF;\n",
              "      --disabled-bg-color: #3B4455;\n",
              "      --disabled-fill-color: #666;\n",
              "  }\n",
              "\n",
              "  .colab-df-quickchart {\n",
              "    background-color: var(--bg-color);\n",
              "    border: none;\n",
              "    border-radius: 50%;\n",
              "    cursor: pointer;\n",
              "    display: none;\n",
              "    fill: var(--fill-color);\n",
              "    height: 32px;\n",
              "    padding: 0;\n",
              "    width: 32px;\n",
              "  }\n",
              "\n",
              "  .colab-df-quickchart:hover {\n",
              "    background-color: var(--hover-bg-color);\n",
              "    box-shadow: 0 1px 2px rgba(60, 64, 67, 0.3), 0 1px 3px 1px rgba(60, 64, 67, 0.15);\n",
              "    fill: var(--button-hover-fill-color);\n",
              "  }\n",
              "\n",
              "  .colab-df-quickchart-complete:disabled,\n",
              "  .colab-df-quickchart-complete:disabled:hover {\n",
              "    background-color: var(--disabled-bg-color);\n",
              "    fill: var(--disabled-fill-color);\n",
              "    box-shadow: none;\n",
              "  }\n",
              "\n",
              "  .colab-df-spinner {\n",
              "    border: 2px solid var(--fill-color);\n",
              "    border-color: transparent;\n",
              "    border-bottom-color: var(--fill-color);\n",
              "    animation:\n",
              "      spin 1s steps(1) infinite;\n",
              "  }\n",
              "\n",
              "  @keyframes spin {\n",
              "    0% {\n",
              "      border-color: transparent;\n",
              "      border-bottom-color: var(--fill-color);\n",
              "      border-left-color: var(--fill-color);\n",
              "    }\n",
              "    20% {\n",
              "      border-color: transparent;\n",
              "      border-left-color: var(--fill-color);\n",
              "      border-top-color: var(--fill-color);\n",
              "    }\n",
              "    30% {\n",
              "      border-color: transparent;\n",
              "      border-left-color: var(--fill-color);\n",
              "      border-top-color: var(--fill-color);\n",
              "      border-right-color: var(--fill-color);\n",
              "    }\n",
              "    40% {\n",
              "      border-color: transparent;\n",
              "      border-right-color: var(--fill-color);\n",
              "      border-top-color: var(--fill-color);\n",
              "    }\n",
              "    60% {\n",
              "      border-color: transparent;\n",
              "      border-right-color: var(--fill-color);\n",
              "    }\n",
              "    80% {\n",
              "      border-color: transparent;\n",
              "      border-right-color: var(--fill-color);\n",
              "      border-bottom-color: var(--fill-color);\n",
              "    }\n",
              "    90% {\n",
              "      border-color: transparent;\n",
              "      border-bottom-color: var(--fill-color);\n",
              "    }\n",
              "  }\n",
              "</style>\n",
              "\n",
              "  <script>\n",
              "    async function quickchart(key) {\n",
              "      const quickchartButtonEl =\n",
              "        document.querySelector('#' + key + ' button');\n",
              "      quickchartButtonEl.disabled = true;  // To prevent multiple clicks.\n",
              "      quickchartButtonEl.classList.add('colab-df-spinner');\n",
              "      try {\n",
              "        const charts = await google.colab.kernel.invokeFunction(\n",
              "            'suggestCharts', [key], {});\n",
              "      } catch (error) {\n",
              "        console.error('Error during call to suggestCharts:', error);\n",
              "      }\n",
              "      quickchartButtonEl.classList.remove('colab-df-spinner');\n",
              "      quickchartButtonEl.classList.add('colab-df-quickchart-complete');\n",
              "    }\n",
              "    (() => {\n",
              "      let quickchartButtonEl =\n",
              "        document.querySelector('#df-32d59803-9156-47f1-9386-ad5f1ea3ca1e button');\n",
              "      quickchartButtonEl.style.display =\n",
              "        google.colab.kernel.accessAllowed ? 'block' : 'none';\n",
              "    })();\n",
              "  </script>\n",
              "</div>\n",
              "    </div>\n",
              "  </div>\n"
            ]
          },
          "metadata": {},
          "execution_count": 64
        }
      ]
    },
    {
      "cell_type": "code",
      "source": [
        "import pandas as pd\n",
        "from sklearn.decomposition import PCA\n",
        "from sklearn.preprocessing import StandardScaler\n",
        "\n",
        "# Scale the data\n",
        "scaler = StandardScaler()\n",
        "\n",
        "# Fit PCA\n",
        "pca = PCA(n_components=2)\n",
        "components = pca.fit_transform(df_pd__scaled)\n",
        "\n",
        "# Create a DataFrame with principal components and category\n",
        "pca_df = pd.concat([pd.DataFrame(data=components, columns=[\"principal component 1\", \"principal component 2\"]), df_pd[\"Category\"]], axis=1)\n",
        "\n",
        "# Get the percentage contribution of each original feature to each principal component\n",
        "feature_contributions = pd.DataFrame(pca.components_.T, columns=[f'PC{i+1}' for i in range(pca.n_components_)])\n",
        "feature_contributions.index = df_pd.columns[:-1]  # Exclude the \"Category\" column\n",
        "feature_contributions = (feature_contributions.abs() / feature_contributions.abs().sum(axis=0)) * 100  # Calculate percentage\n",
        "\n",
        "# Transpose the DataFrame for the desired format\n",
        "feature_contributions_table = feature_contributions.T\n",
        "\n",
        "# Display the table\n",
        "print(\"Table of Percentage Contribution of Each Feature to Each Principal Component:\")\n",
        "feature_contributions_table\n"
      ],
      "metadata": {
        "colab": {
          "base_uri": "https://localhost:8080/",
          "height": 130
        },
        "id": "gI39VUgTcPW4",
        "outputId": "968520ad-dfeb-49ad-8d8b-3e232a71c1f4"
      },
      "id": "gI39VUgTcPW4",
      "execution_count": 65,
      "outputs": [
        {
          "output_type": "stream",
          "name": "stdout",
          "text": [
            "Table of Percentage Contribution of Each Feature to Each Principal Component:\n"
          ]
        },
        {
          "output_type": "execute_result",
          "data": {
            "text/plain": [
              "         Category     Rating   Reviews       Size\n",
              "PC1  5.600443e-08   2.275975  0.000007  97.724017\n",
              "PC2  2.200018e-06  97.723749  0.000280   2.275969"
            ],
            "text/html": [
              "\n",
              "  <div id=\"df-ea394d6c-622b-455e-9320-591eb6dfe6b2\" class=\"colab-df-container\">\n",
              "    <div>\n",
              "<style scoped>\n",
              "    .dataframe tbody tr th:only-of-type {\n",
              "        vertical-align: middle;\n",
              "    }\n",
              "\n",
              "    .dataframe tbody tr th {\n",
              "        vertical-align: top;\n",
              "    }\n",
              "\n",
              "    .dataframe thead th {\n",
              "        text-align: right;\n",
              "    }\n",
              "</style>\n",
              "<table border=\"1\" class=\"dataframe\">\n",
              "  <thead>\n",
              "    <tr style=\"text-align: right;\">\n",
              "      <th></th>\n",
              "      <th>Category</th>\n",
              "      <th>Rating</th>\n",
              "      <th>Reviews</th>\n",
              "      <th>Size</th>\n",
              "    </tr>\n",
              "  </thead>\n",
              "  <tbody>\n",
              "    <tr>\n",
              "      <th>PC1</th>\n",
              "      <td>5.600443e-08</td>\n",
              "      <td>2.275975</td>\n",
              "      <td>0.000007</td>\n",
              "      <td>97.724017</td>\n",
              "    </tr>\n",
              "    <tr>\n",
              "      <th>PC2</th>\n",
              "      <td>2.200018e-06</td>\n",
              "      <td>97.723749</td>\n",
              "      <td>0.000280</td>\n",
              "      <td>2.275969</td>\n",
              "    </tr>\n",
              "  </tbody>\n",
              "</table>\n",
              "</div>\n",
              "    <div class=\"colab-df-buttons\">\n",
              "\n",
              "  <div class=\"colab-df-container\">\n",
              "    <button class=\"colab-df-convert\" onclick=\"convertToInteractive('df-ea394d6c-622b-455e-9320-591eb6dfe6b2')\"\n",
              "            title=\"Convert this dataframe to an interactive table.\"\n",
              "            style=\"display:none;\">\n",
              "\n",
              "  <svg xmlns=\"http://www.w3.org/2000/svg\" height=\"24px\" viewBox=\"0 -960 960 960\">\n",
              "    <path d=\"M120-120v-720h720v720H120Zm60-500h600v-160H180v160Zm220 220h160v-160H400v160Zm0 220h160v-160H400v160ZM180-400h160v-160H180v160Zm440 0h160v-160H620v160ZM180-180h160v-160H180v160Zm440 0h160v-160H620v160Z\"/>\n",
              "  </svg>\n",
              "    </button>\n",
              "\n",
              "  <style>\n",
              "    .colab-df-container {\n",
              "      display:flex;\n",
              "      gap: 12px;\n",
              "    }\n",
              "\n",
              "    .colab-df-convert {\n",
              "      background-color: #E8F0FE;\n",
              "      border: none;\n",
              "      border-radius: 50%;\n",
              "      cursor: pointer;\n",
              "      display: none;\n",
              "      fill: #1967D2;\n",
              "      height: 32px;\n",
              "      padding: 0 0 0 0;\n",
              "      width: 32px;\n",
              "    }\n",
              "\n",
              "    .colab-df-convert:hover {\n",
              "      background-color: #E2EBFA;\n",
              "      box-shadow: 0px 1px 2px rgba(60, 64, 67, 0.3), 0px 1px 3px 1px rgba(60, 64, 67, 0.15);\n",
              "      fill: #174EA6;\n",
              "    }\n",
              "\n",
              "    .colab-df-buttons div {\n",
              "      margin-bottom: 4px;\n",
              "    }\n",
              "\n",
              "    [theme=dark] .colab-df-convert {\n",
              "      background-color: #3B4455;\n",
              "      fill: #D2E3FC;\n",
              "    }\n",
              "\n",
              "    [theme=dark] .colab-df-convert:hover {\n",
              "      background-color: #434B5C;\n",
              "      box-shadow: 0px 1px 3px 1px rgba(0, 0, 0, 0.15);\n",
              "      filter: drop-shadow(0px 1px 2px rgba(0, 0, 0, 0.3));\n",
              "      fill: #FFFFFF;\n",
              "    }\n",
              "  </style>\n",
              "\n",
              "    <script>\n",
              "      const buttonEl =\n",
              "        document.querySelector('#df-ea394d6c-622b-455e-9320-591eb6dfe6b2 button.colab-df-convert');\n",
              "      buttonEl.style.display =\n",
              "        google.colab.kernel.accessAllowed ? 'block' : 'none';\n",
              "\n",
              "      async function convertToInteractive(key) {\n",
              "        const element = document.querySelector('#df-ea394d6c-622b-455e-9320-591eb6dfe6b2');\n",
              "        const dataTable =\n",
              "          await google.colab.kernel.invokeFunction('convertToInteractive',\n",
              "                                                    [key], {});\n",
              "        if (!dataTable) return;\n",
              "\n",
              "        const docLinkHtml = 'Like what you see? Visit the ' +\n",
              "          '<a target=\"_blank\" href=https://colab.research.google.com/notebooks/data_table.ipynb>data table notebook</a>'\n",
              "          + ' to learn more about interactive tables.';\n",
              "        element.innerHTML = '';\n",
              "        dataTable['output_type'] = 'display_data';\n",
              "        await google.colab.output.renderOutput(dataTable, element);\n",
              "        const docLink = document.createElement('div');\n",
              "        docLink.innerHTML = docLinkHtml;\n",
              "        element.appendChild(docLink);\n",
              "      }\n",
              "    </script>\n",
              "  </div>\n",
              "\n",
              "\n",
              "<div id=\"df-6d63c6be-4fe1-4e0a-b29a-a3974ed16e54\">\n",
              "  <button class=\"colab-df-quickchart\" onclick=\"quickchart('df-6d63c6be-4fe1-4e0a-b29a-a3974ed16e54')\"\n",
              "            title=\"Suggest charts\"\n",
              "            style=\"display:none;\">\n",
              "\n",
              "<svg xmlns=\"http://www.w3.org/2000/svg\" height=\"24px\"viewBox=\"0 0 24 24\"\n",
              "     width=\"24px\">\n",
              "    <g>\n",
              "        <path d=\"M19 3H5c-1.1 0-2 .9-2 2v14c0 1.1.9 2 2 2h14c1.1 0 2-.9 2-2V5c0-1.1-.9-2-2-2zM9 17H7v-7h2v7zm4 0h-2V7h2v10zm4 0h-2v-4h2v4z\"/>\n",
              "    </g>\n",
              "</svg>\n",
              "  </button>\n",
              "\n",
              "<style>\n",
              "  .colab-df-quickchart {\n",
              "      --bg-color: #E8F0FE;\n",
              "      --fill-color: #1967D2;\n",
              "      --hover-bg-color: #E2EBFA;\n",
              "      --hover-fill-color: #174EA6;\n",
              "      --disabled-fill-color: #AAA;\n",
              "      --disabled-bg-color: #DDD;\n",
              "  }\n",
              "\n",
              "  [theme=dark] .colab-df-quickchart {\n",
              "      --bg-color: #3B4455;\n",
              "      --fill-color: #D2E3FC;\n",
              "      --hover-bg-color: #434B5C;\n",
              "      --hover-fill-color: #FFFFFF;\n",
              "      --disabled-bg-color: #3B4455;\n",
              "      --disabled-fill-color: #666;\n",
              "  }\n",
              "\n",
              "  .colab-df-quickchart {\n",
              "    background-color: var(--bg-color);\n",
              "    border: none;\n",
              "    border-radius: 50%;\n",
              "    cursor: pointer;\n",
              "    display: none;\n",
              "    fill: var(--fill-color);\n",
              "    height: 32px;\n",
              "    padding: 0;\n",
              "    width: 32px;\n",
              "  }\n",
              "\n",
              "  .colab-df-quickchart:hover {\n",
              "    background-color: var(--hover-bg-color);\n",
              "    box-shadow: 0 1px 2px rgba(60, 64, 67, 0.3), 0 1px 3px 1px rgba(60, 64, 67, 0.15);\n",
              "    fill: var(--button-hover-fill-color);\n",
              "  }\n",
              "\n",
              "  .colab-df-quickchart-complete:disabled,\n",
              "  .colab-df-quickchart-complete:disabled:hover {\n",
              "    background-color: var(--disabled-bg-color);\n",
              "    fill: var(--disabled-fill-color);\n",
              "    box-shadow: none;\n",
              "  }\n",
              "\n",
              "  .colab-df-spinner {\n",
              "    border: 2px solid var(--fill-color);\n",
              "    border-color: transparent;\n",
              "    border-bottom-color: var(--fill-color);\n",
              "    animation:\n",
              "      spin 1s steps(1) infinite;\n",
              "  }\n",
              "\n",
              "  @keyframes spin {\n",
              "    0% {\n",
              "      border-color: transparent;\n",
              "      border-bottom-color: var(--fill-color);\n",
              "      border-left-color: var(--fill-color);\n",
              "    }\n",
              "    20% {\n",
              "      border-color: transparent;\n",
              "      border-left-color: var(--fill-color);\n",
              "      border-top-color: var(--fill-color);\n",
              "    }\n",
              "    30% {\n",
              "      border-color: transparent;\n",
              "      border-left-color: var(--fill-color);\n",
              "      border-top-color: var(--fill-color);\n",
              "      border-right-color: var(--fill-color);\n",
              "    }\n",
              "    40% {\n",
              "      border-color: transparent;\n",
              "      border-right-color: var(--fill-color);\n",
              "      border-top-color: var(--fill-color);\n",
              "    }\n",
              "    60% {\n",
              "      border-color: transparent;\n",
              "      border-right-color: var(--fill-color);\n",
              "    }\n",
              "    80% {\n",
              "      border-color: transparent;\n",
              "      border-right-color: var(--fill-color);\n",
              "      border-bottom-color: var(--fill-color);\n",
              "    }\n",
              "    90% {\n",
              "      border-color: transparent;\n",
              "      border-bottom-color: var(--fill-color);\n",
              "    }\n",
              "  }\n",
              "</style>\n",
              "\n",
              "  <script>\n",
              "    async function quickchart(key) {\n",
              "      const quickchartButtonEl =\n",
              "        document.querySelector('#' + key + ' button');\n",
              "      quickchartButtonEl.disabled = true;  // To prevent multiple clicks.\n",
              "      quickchartButtonEl.classList.add('colab-df-spinner');\n",
              "      try {\n",
              "        const charts = await google.colab.kernel.invokeFunction(\n",
              "            'suggestCharts', [key], {});\n",
              "      } catch (error) {\n",
              "        console.error('Error during call to suggestCharts:', error);\n",
              "      }\n",
              "      quickchartButtonEl.classList.remove('colab-df-spinner');\n",
              "      quickchartButtonEl.classList.add('colab-df-quickchart-complete');\n",
              "    }\n",
              "    (() => {\n",
              "      let quickchartButtonEl =\n",
              "        document.querySelector('#df-6d63c6be-4fe1-4e0a-b29a-a3974ed16e54 button');\n",
              "      quickchartButtonEl.style.display =\n",
              "        google.colab.kernel.accessAllowed ? 'block' : 'none';\n",
              "    })();\n",
              "  </script>\n",
              "</div>\n",
              "    </div>\n",
              "  </div>\n"
            ]
          },
          "metadata": {},
          "execution_count": 65
        }
      ]
    },
    {
      "cell_type": "markdown",
      "source": [
        "From the feature_contributions_table we can see that PC1 has the highest portion at Size. The PC2 has the highest at Rating."
      ],
      "metadata": {
        "id": "GPbnwYsrPGkN"
      },
      "id": "GPbnwYsrPGkN"
    },
    {
      "cell_type": "code",
      "source": [
        "import matplotlib.pyplot as plt\n",
        "import seaborn as sns\n",
        "\n",
        "category_color_map = {category: color for category, color in zip(pca_df[\"Category\"].unique(), sns.color_palette(\"husl\", len(pca_df[\"Category\"].unique())))}\n",
        "pc_vr = pca.explained_variance_ratio_.round(3)\n",
        "fig = plt.figure(figsize=(6, 6))\n",
        "ax = fig.add_subplot(1, 1, 1)\n",
        "ax.set_xlabel(f\"PC1 (var ratio: {pc_vr[0]})\")\n",
        "ax.set_ylabel(f\"PC2 (var ratio: {pc_vr[1]})\")\n",
        "ax.set_title(\"PCA Decomposition of Numeric Features\")\n",
        "\n",
        "centers = pca_df.groupby(\"Category\").agg(\"mean\").reset_index()\n",
        "\n",
        "for category in pca_df[\"Category\"].unique():\n",
        "    id = pca_df[\"Category\"] == category\n",
        "    ax.scatter(\n",
        "        pca_df.loc[id, \"principal component 1\"],\n",
        "        pca_df.loc[id, \"principal component 2\"],\n",
        "        c=category_color_map[category],\n",
        "        s=30,\n",
        "        alpha=0.5,\n",
        "        label=category\n",
        "    )\n",
        "\n",
        "for category in pca_df[\"Category\"].unique():\n",
        "    ax.scatter(\n",
        "        centers.loc[centers[\"Category\"] == category, \"principal component 1\"],\n",
        "        centers.loc[centers[\"Category\"] == category, \"principal component 2\"],\n",
        "        c=category_color_map[category],\n",
        "        s=100,\n",
        "        edgecolors=\"black\",\n",
        "        marker='X'\n",
        "    )\n",
        "\n",
        "ax.legend()\n",
        "plt.show()"
      ],
      "metadata": {
        "id": "EXFBqWQNPXzQ",
        "colab": {
          "base_uri": "https://localhost:8080/",
          "height": 876
        },
        "outputId": "d94b47c5-c683-4221-b22e-b48bb19b6f8e"
      },
      "id": "EXFBqWQNPXzQ",
      "execution_count": 66,
      "outputs": [
        {
          "output_type": "stream",
          "name": "stderr",
          "text": [
            "<ipython-input-66-a2c5f9d0b460>:16: UserWarning: *c* argument looks like a single numeric RGB or RGBA sequence, which should be avoided as value-mapping will have precedence in case its length matches with *x* & *y*.  Please use the *color* keyword-argument or provide a 2D array with a single row if you intend to specify the same RGB or RGBA value for all points.\n",
            "  ax.scatter(\n",
            "<ipython-input-66-a2c5f9d0b460>:26: UserWarning: *c* argument looks like a single numeric RGB or RGBA sequence, which should be avoided as value-mapping will have precedence in case its length matches with *x* & *y*.  Please use the *color* keyword-argument or provide a 2D array with a single row if you intend to specify the same RGB or RGBA value for all points.\n",
            "  ax.scatter(\n"
          ]
        },
        {
          "output_type": "display_data",
          "data": {
            "text/plain": [
              "<Figure size 600x600 with 1 Axes>"
            ],
            "image/png": "[encoded data removed]"
          },
          "metadata": {}
        }
      ]
    },
    {
      "cell_type": "markdown",
      "source": [
        "From the plot we can see PC2 has more ratio compares to PC1. PC2 has more clear group of media and news apps, seems rating still take a part when we are seeking the most important components"
      ],
      "metadata": {
        "id": "DnGG5jHBPa4r"
      },
      "id": "DnGG5jHBPa4r"
    },
    {
      "cell_type": "markdown",
      "source": [
        "## PCA (by genres)"
      ],
      "metadata": {
        "id": "CL2TEhm0R6Sn"
      },
      "id": "CL2TEhm0R6Sn"
    },
    {
      "cell_type": "code",
      "source": [
        "from pyspark.ml.feature import RegexTokenizer, StopWordsRemover, CountVectorizer, IDF\n",
        "from pyspark.ml import Pipeline\n",
        "import requests\n",
        "\n",
        "#since 'genre' has multiple words to define different categories an app can be,\n",
        "#we are tokennizing the words in 'genre' to analyze it better\n",
        "\n",
        "tokenize = RegexTokenizer(minTokenLength = 2)\\\n",
        "  .setGaps(False)\\\n",
        "  .setPattern('\\\\p{L}+')\\\n",
        "  .setInputCol('Genres')\\\n",
        "  .setOutputCol('words')\n",
        "\n",
        "# remove stop words\n",
        "stop_words = requests.get('http://ir.dcs.gla.ac.uk/resources/linguistic_utils/stop_words')\\\n",
        "  .text\\\n",
        "  .split()\n",
        "\n",
        "remove_sw = StopWordsRemover()\\\n",
        "  .setStopWords(stop_words)\\\n",
        "  .setCaseSensitive(False)\\\n",
        "  .setInputCol('words')\\\n",
        "  .setOutputCol('filtered')\n",
        "\n",
        "# count vectorizer\n",
        "cv = CountVectorizer(inputCol = 'filtered',\n",
        "                     outputCol = 'tf')\n",
        "\n",
        "# compute the inverse document frequency\n",
        "idf = IDF(inputCol = 'tf',\n",
        "          outputCol = 'features') #tfidf\n",
        "pipe_features = Pipeline() \\\n",
        "     .setStages([tokenize,\n",
        "                 remove_sw,\n",
        "                 cv,\n",
        "                 idf])\n",
        "\n",
        "ds_features = pipe_features\\\n",
        "  .fit(df)\\\n",
        "  .transform(df)\\\n",
        "  #.toPandas()\\\n",
        "  #.head()\n",
        "\n",
        "ds_features.select('features')\\\n",
        "  .show(5,\n",
        "        truncate = False)"
      ],
      "metadata": {
        "id": "lQkGS5l3Roc0",
        "colab": {
          "base_uri": "https://localhost:8080/"
        },
        "outputId": "5232118d-a0b4-476f-ce09-a61ed61a075c"
      },
      "id": "lQkGS5l3Roc0",
      "execution_count": 67,
      "outputs": [
        {
          "output_type": "stream",
          "name": "stdout",
          "text": [
            "+--------------------------------------------------------------------------------------+\n",
            "|features                                                                              |\n",
            "+--------------------------------------------------------------------------------------+\n",
            "|(66,[49,50],[4.825341582888492,4.825341582888492])                                    |\n",
            "|(66,[39,40,49,50],[4.486567849279,4.486567849279,4.825341582888492,4.825341582888492])|\n",
            "|(66,[49,50],[4.825341582888492,4.825341582888492])                                    |\n",
            "|(66,[49,50],[4.825341582888492,4.825341582888492])                                    |\n",
            "|(66,[49,50,62],[4.825341582888492,4.825341582888492,5.486740065133858])               |\n",
            "+--------------------------------------------------------------------------------------+\n",
            "only showing top 5 rows\n",
            "\n"
          ]
        }
      ]
    },
    {
      "cell_type": "code",
      "source": [
        "#doing PCA on tokenized 'Genre' col now labelled as 'features'\n",
        "from pyspark.ml.feature import PCA\n",
        "pca = PCA(k = 2,\n",
        "                  inputCol = 'features',\n",
        "                  outputCol = 'scores')\n",
        "\n",
        "pipe_pca = Pipeline(stages = [tokenize,\n",
        "                              remove_sw,\n",
        "                              cv,\n",
        "                              idf,\n",
        "                              pca])\n",
        "ds_features_1 = pipe_pca\\\n",
        "  .fit(df)\\\n",
        "  .transform(df)\n",
        "\n",
        "pca_pipe_model = pipe_pca\\\n",
        "  .fit(df)\n",
        "pca_model = pca_pipe_model.stages[-1]\n",
        "\n",
        "pc1 = pca_model.pc.toArray()[:, 0].tolist()\n",
        "pc2 = pca_model.pc.toArray()[:, 1].tolist()\n",
        "\n",
        "vocabulary = pca_pipe_model.stages[2].vocabulary #vocabulary = Genre\n",
        "\n",
        "pc_loadings = pd.DataFrame([vocabulary, pc1, pc2])\\\n",
        "  .T\\\n",
        "  .rename(columns = {0: 'genre_word',\n",
        "                     1: 'load_pc1',\n",
        "                     2: 'load_pc2'})\n",
        "\n",
        "app_names = np.array(df\\\n",
        "                        .select('App')\\\n",
        "                        .rdd\\\n",
        "                        .map(lambda x: x['App'])\\\n",
        "                        .collect())\n",
        "\n",
        "X = np.array(pca_pipe_model.transform(df)\\\n",
        "             .select('scores')\\\n",
        "             .rdd\\\n",
        "             .map(lambda x: x['scores'])\\\n",
        "             .collect())\n"
      ],
      "metadata": {
        "id": "MbT-Wn2WSQKx"
      },
      "id": "MbT-Wn2WSQKx",
      "execution_count": 68,
      "outputs": []
    },
    {
      "cell_type": "code",
      "source": [
        "pc_loadings.T"
      ],
      "metadata": {
        "colab": {
          "base_uri": "https://localhost:8080/",
          "height": 192
        },
        "id": "AXCjEJtgkDIB",
        "outputId": "fae57ca0-55df-488e-d704-f8725e4a5203"
      },
      "id": "AXCjEJtgkDIB",
      "execution_count": 69,
      "outputs": [
        {
          "output_type": "execute_result",
          "data": {
            "text/plain": [
              "                  0          1              2         3         4   \\\n",
              "genre_word     tools  education  entertainment    action   medical   \n",
              "load_pc1   -0.030277  -0.044413       0.026153  -0.06972 -0.014863   \n",
              "load_pc2    0.032369   0.096104       0.026088  0.140853  0.014582   \n",
              "\n",
              "                         5          6         7         8         9   ...  \\\n",
              "genre_word  personalization  lifestyle   finance    sports  business  ...   \n",
              "load_pc1          -0.012658  -0.012814 -0.011916 -0.012663 -0.010985  ...   \n",
              "load_pc2           0.012237   0.012658  0.011462  0.013471  0.010497  ...   \n",
              "\n",
              "                  56         57        58        59        60        61  \\\n",
              "genre_word    comics  parenting      card    events    beauty    casino   \n",
              "load_pc1   -0.002045   0.012172 -0.002706 -0.001657 -0.001616 -0.001409   \n",
              "load_pc2    0.001902     0.0019  0.003639  0.001464  0.001427  0.001241   \n",
              "\n",
              "                    62        63        64        65  \n",
              "genre_word  creativity    trivia      word     audio  \n",
              "load_pc1      0.011794 -0.001201 -0.001076  0.004425  \n",
              "load_pc2      0.004214  0.001056  0.000945 -0.000176  \n",
              "\n",
              "[3 rows x 66 columns]"
            ],
            "text/html": [
              "\n",
              "  <div id=\"df-faf9d626-5c67-4503-80c9-5642fee15dad\" class=\"colab-df-container\">\n",
              "    <div>\n",
              "<style scoped>\n",
              "    .dataframe tbody tr th:only-of-type {\n",
              "        vertical-align: middle;\n",
              "    }\n",
              "\n",
              "    .dataframe tbody tr th {\n",
              "        vertical-align: top;\n",
              "    }\n",
              "\n",
              "    .dataframe thead th {\n",
              "        text-align: right;\n",
              "    }\n",
              "</style>\n",
              "<table border=\"1\" class=\"dataframe\">\n",
              "  <thead>\n",
              "    <tr style=\"text-align: right;\">\n",
              "      <th></th>\n",
              "      <th>0</th>\n",
              "      <th>1</th>\n",
              "      <th>2</th>\n",
              "      <th>3</th>\n",
              "      <th>4</th>\n",
              "      <th>5</th>\n",
              "      <th>6</th>\n",
              "      <th>7</th>\n",
              "      <th>8</th>\n",
              "      <th>9</th>\n",
              "      <th>...</th>\n",
              "      <th>56</th>\n",
              "      <th>57</th>\n",
              "      <th>58</th>\n",
              "      <th>59</th>\n",
              "      <th>60</th>\n",
              "      <th>61</th>\n",
              "      <th>62</th>\n",
              "      <th>63</th>\n",
              "      <th>64</th>\n",
              "      <th>65</th>\n",
              "    </tr>\n",
              "  </thead>\n",
              "  <tbody>\n",
              "    <tr>\n",
              "      <th>genre_word</th>\n",
              "      <td>tools</td>\n",
              "      <td>education</td>\n",
              "      <td>entertainment</td>\n",
              "      <td>action</td>\n",
              "      <td>medical</td>\n",
              "      <td>personalization</td>\n",
              "      <td>lifestyle</td>\n",
              "      <td>finance</td>\n",
              "      <td>sports</td>\n",
              "      <td>business</td>\n",
              "      <td>...</td>\n",
              "      <td>comics</td>\n",
              "      <td>parenting</td>\n",
              "      <td>card</td>\n",
              "      <td>events</td>\n",
              "      <td>beauty</td>\n",
              "      <td>casino</td>\n",
              "      <td>creativity</td>\n",
              "      <td>trivia</td>\n",
              "      <td>word</td>\n",
              "      <td>audio</td>\n",
              "    </tr>\n",
              "    <tr>\n",
              "      <th>load_pc1</th>\n",
              "      <td>-0.030277</td>\n",
              "      <td>-0.044413</td>\n",
              "      <td>0.026153</td>\n",
              "      <td>-0.06972</td>\n",
              "      <td>-0.014863</td>\n",
              "      <td>-0.012658</td>\n",
              "      <td>-0.012814</td>\n",
              "      <td>-0.011916</td>\n",
              "      <td>-0.012663</td>\n",
              "      <td>-0.010985</td>\n",
              "      <td>...</td>\n",
              "      <td>-0.002045</td>\n",
              "      <td>0.012172</td>\n",
              "      <td>-0.002706</td>\n",
              "      <td>-0.001657</td>\n",
              "      <td>-0.001616</td>\n",
              "      <td>-0.001409</td>\n",
              "      <td>0.011794</td>\n",
              "      <td>-0.001201</td>\n",
              "      <td>-0.001076</td>\n",
              "      <td>0.004425</td>\n",
              "    </tr>\n",
              "    <tr>\n",
              "      <th>load_pc2</th>\n",
              "      <td>0.032369</td>\n",
              "      <td>0.096104</td>\n",
              "      <td>0.026088</td>\n",
              "      <td>0.140853</td>\n",
              "      <td>0.014582</td>\n",
              "      <td>0.012237</td>\n",
              "      <td>0.012658</td>\n",
              "      <td>0.011462</td>\n",
              "      <td>0.013471</td>\n",
              "      <td>0.010497</td>\n",
              "      <td>...</td>\n",
              "      <td>0.001902</td>\n",
              "      <td>0.0019</td>\n",
              "      <td>0.003639</td>\n",
              "      <td>0.001464</td>\n",
              "      <td>0.001427</td>\n",
              "      <td>0.001241</td>\n",
              "      <td>0.004214</td>\n",
              "      <td>0.001056</td>\n",
              "      <td>0.000945</td>\n",
              "      <td>-0.000176</td>\n",
              "    </tr>\n",
              "  </tbody>\n",
              "</table>\n",
              "<p>3 rows × 66 columns</p>\n",
              "</div>\n",
              "    <div class=\"colab-df-buttons\">\n",
              "\n",
              "  <div class=\"colab-df-container\">\n",
              "    <button class=\"colab-df-convert\" onclick=\"convertToInteractive('df-faf9d626-5c67-4503-80c9-5642fee15dad')\"\n",
              "            title=\"Convert this dataframe to an interactive table.\"\n",
              "            style=\"display:none;\">\n",
              "\n",
              "  <svg xmlns=\"http://www.w3.org/2000/svg\" height=\"24px\" viewBox=\"0 -960 960 960\">\n",
              "    <path d=\"M120-120v-720h720v720H120Zm60-500h600v-160H180v160Zm220 220h160v-160H400v160Zm0 220h160v-160H400v160ZM180-400h160v-160H180v160Zm440 0h160v-160H620v160ZM180-180h160v-160H180v160Zm440 0h160v-160H620v160Z\"/>\n",
              "  </svg>\n",
              "    </button>\n",
              "\n",
              "  <style>\n",
              "    .colab-df-container {\n",
              "      display:flex;\n",
              "      gap: 12px;\n",
              "    }\n",
              "\n",
              "    .colab-df-convert {\n",
              "      background-color: #E8F0FE;\n",
              "      border: none;\n",
              "      border-radius: 50%;\n",
              "      cursor: pointer;\n",
              "      display: none;\n",
              "      fill: #1967D2;\n",
              "      height: 32px;\n",
              "      padding: 0 0 0 0;\n",
              "      width: 32px;\n",
              "    }\n",
              "\n",
              "    .colab-df-convert:hover {\n",
              "      background-color: #E2EBFA;\n",
              "      box-shadow: 0px 1px 2px rgba(60, 64, 67, 0.3), 0px 1px 3px 1px rgba(60, 64, 67, 0.15);\n",
              "      fill: #174EA6;\n",
              "    }\n",
              "\n",
              "    .colab-df-buttons div {\n",
              "      margin-bottom: 4px;\n",
              "    }\n",
              "\n",
              "    [theme=dark] .colab-df-convert {\n",
              "      background-color: #3B4455;\n",
              "      fill: #D2E3FC;\n",
              "    }\n",
              "\n",
              "    [theme=dark] .colab-df-convert:hover {\n",
              "      background-color: #434B5C;\n",
              "      box-shadow: 0px 1px 3px 1px rgba(0, 0, 0, 0.15);\n",
              "      filter: drop-shadow(0px 1px 2px rgba(0, 0, 0, 0.3));\n",
              "      fill: #FFFFFF;\n",
              "    }\n",
              "  </style>\n",
              "\n",
              "    <script>\n",
              "      const buttonEl =\n",
              "        document.querySelector('#df-faf9d626-5c67-4503-80c9-5642fee15dad button.colab-df-convert');\n",
              "      buttonEl.style.display =\n",
              "        google.colab.kernel.accessAllowed ? 'block' : 'none';\n",
              "\n",
              "      async function convertToInteractive(key) {\n",
              "        const element = document.querySelector('#df-faf9d626-5c67-4503-80c9-5642fee15dad');\n",
              "        const dataTable =\n",
              "          await google.colab.kernel.invokeFunction('convertToInteractive',\n",
              "                                                    [key], {});\n",
              "        if (!dataTable) return;\n",
              "\n",
              "        const docLinkHtml = 'Like what you see? Visit the ' +\n",
              "          '<a target=\"_blank\" href=https://colab.research.google.com/notebooks/data_table.ipynb>data table notebook</a>'\n",
              "          + ' to learn more about interactive tables.';\n",
              "        element.innerHTML = '';\n",
              "        dataTable['output_type'] = 'display_data';\n",
              "        await google.colab.output.renderOutput(dataTable, element);\n",
              "        const docLink = document.createElement('div');\n",
              "        docLink.innerHTML = docLinkHtml;\n",
              "        element.appendChild(docLink);\n",
              "      }\n",
              "    </script>\n",
              "  </div>\n",
              "\n",
              "\n",
              "<div id=\"df-ddc54874-8bbe-48d4-b5e7-1ab950f5bf38\">\n",
              "  <button class=\"colab-df-quickchart\" onclick=\"quickchart('df-ddc54874-8bbe-48d4-b5e7-1ab950f5bf38')\"\n",
              "            title=\"Suggest charts\"\n",
              "            style=\"display:none;\">\n",
              "\n",
              "<svg xmlns=\"http://www.w3.org/2000/svg\" height=\"24px\"viewBox=\"0 0 24 24\"\n",
              "     width=\"24px\">\n",
              "    <g>\n",
              "        <path d=\"M19 3H5c-1.1 0-2 .9-2 2v14c0 1.1.9 2 2 2h14c1.1 0 2-.9 2-2V5c0-1.1-.9-2-2-2zM9 17H7v-7h2v7zm4 0h-2V7h2v10zm4 0h-2v-4h2v4z\"/>\n",
              "    </g>\n",
              "</svg>\n",
              "  </button>\n",
              "\n",
              "<style>\n",
              "  .colab-df-quickchart {\n",
              "      --bg-color: #E8F0FE;\n",
              "      --fill-color: #1967D2;\n",
              "      --hover-bg-color: #E2EBFA;\n",
              "      --hover-fill-color: #174EA6;\n",
              "      --disabled-fill-color: #AAA;\n",
              "      --disabled-bg-color: #DDD;\n",
              "  }\n",
              "\n",
              "  [theme=dark] .colab-df-quickchart {\n",
              "      --bg-color: #3B4455;\n",
              "      --fill-color: #D2E3FC;\n",
              "      --hover-bg-color: #434B5C;\n",
              "      --hover-fill-color: #FFFFFF;\n",
              "      --disabled-bg-color: #3B4455;\n",
              "      --disabled-fill-color: #666;\n",
              "  }\n",
              "\n",
              "  .colab-df-quickchart {\n",
              "    background-color: var(--bg-color);\n",
              "    border: none;\n",
              "    border-radius: 50%;\n",
              "    cursor: pointer;\n",
              "    display: none;\n",
              "    fill: var(--fill-color);\n",
              "    height: 32px;\n",
              "    padding: 0;\n",
              "    width: 32px;\n",
              "  }\n",
              "\n",
              "  .colab-df-quickchart:hover {\n",
              "    background-color: var(--hover-bg-color);\n",
              "    box-shadow: 0 1px 2px rgba(60, 64, 67, 0.3), 0 1px 3px 1px rgba(60, 64, 67, 0.15);\n",
              "    fill: var(--button-hover-fill-color);\n",
              "  }\n",
              "\n",
              "  .colab-df-quickchart-complete:disabled,\n",
              "  .colab-df-quickchart-complete:disabled:hover {\n",
              "    background-color: var(--disabled-bg-color);\n",
              "    fill: var(--disabled-fill-color);\n",
              "    box-shadow: none;\n",
              "  }\n",
              "\n",
              "  .colab-df-spinner {\n",
              "    border: 2px solid var(--fill-color);\n",
              "    border-color: transparent;\n",
              "    border-bottom-color: var(--fill-color);\n",
              "    animation:\n",
              "      spin 1s steps(1) infinite;\n",
              "  }\n",
              "\n",
              "  @keyframes spin {\n",
              "    0% {\n",
              "      border-color: transparent;\n",
              "      border-bottom-color: var(--fill-color);\n",
              "      border-left-color: var(--fill-color);\n",
              "    }\n",
              "    20% {\n",
              "      border-color: transparent;\n",
              "      border-left-color: var(--fill-color);\n",
              "      border-top-color: var(--fill-color);\n",
              "    }\n",
              "    30% {\n",
              "      border-color: transparent;\n",
              "      border-left-color: var(--fill-color);\n",
              "      border-top-color: var(--fill-color);\n",
              "      border-right-color: var(--fill-color);\n",
              "    }\n",
              "    40% {\n",
              "      border-color: transparent;\n",
              "      border-right-color: var(--fill-color);\n",
              "      border-top-color: var(--fill-color);\n",
              "    }\n",
              "    60% {\n",
              "      border-color: transparent;\n",
              "      border-right-color: var(--fill-color);\n",
              "    }\n",
              "    80% {\n",
              "      border-color: transparent;\n",
              "      border-right-color: var(--fill-color);\n",
              "      border-bottom-color: var(--fill-color);\n",
              "    }\n",
              "    90% {\n",
              "      border-color: transparent;\n",
              "      border-bottom-color: var(--fill-color);\n",
              "    }\n",
              "  }\n",
              "</style>\n",
              "\n",
              "  <script>\n",
              "    async function quickchart(key) {\n",
              "      const quickchartButtonEl =\n",
              "        document.querySelector('#' + key + ' button');\n",
              "      quickchartButtonEl.disabled = true;  // To prevent multiple clicks.\n",
              "      quickchartButtonEl.classList.add('colab-df-spinner');\n",
              "      try {\n",
              "        const charts = await google.colab.kernel.invokeFunction(\n",
              "            'suggestCharts', [key], {});\n",
              "      } catch (error) {\n",
              "        console.error('Error during call to suggestCharts:', error);\n",
              "      }\n",
              "      quickchartButtonEl.classList.remove('colab-df-spinner');\n",
              "      quickchartButtonEl.classList.add('colab-df-quickchart-complete');\n",
              "    }\n",
              "    (() => {\n",
              "      let quickchartButtonEl =\n",
              "        document.querySelector('#df-ddc54874-8bbe-48d4-b5e7-1ab950f5bf38 button');\n",
              "      quickchartButtonEl.style.display =\n",
              "        google.colab.kernel.accessAllowed ? 'block' : 'none';\n",
              "    })();\n",
              "  </script>\n",
              "</div>\n",
              "    </div>\n",
              "  </div>\n"
            ]
          },
          "metadata": {},
          "execution_count": 69
        }
      ]
    },
    {
      "cell_type": "code",
      "source": [
        "fig, ax = plt.subplots(figsize=(7, 7))\n",
        "ax.scatter(X[:, 0], X[:, 1])\n",
        "fig.suptitle('Genres PC2 Scores vs. PC1 Scores', y=0.92)\n",
        "ax.set_xlabel('PC1')\n",
        "ax.set_ylabel('PC2')\n",
        "\n",
        "# for i, app_name in enumerate(app_names):\n",
        "#     ax.annotate(app_name, (X[i, 0], X[i, 1]))\n",
        "\n",
        "plt.show()"
      ],
      "metadata": {
        "id": "syF34mplSfcv",
        "colab": {
          "base_uri": "https://localhost:8080/",
          "height": 647
        },
        "outputId": "bc907764-55ca-4023-b582-9863a664e54b"
      },
      "id": "syF34mplSfcv",
      "execution_count": 70,
      "outputs": [
        {
          "output_type": "display_data",
          "data": {
            "text/plain": [
              "<Figure size 700x700 with 1 Axes>"
            ],
            "image/png": "[encoded data removed]"
          },
          "metadata": {}
        }
      ]
    },
    {
      "cell_type": "markdown",
      "source": [
        "The PCA by genres shows the similar result as PCA by categories. The 'genres' of an App affects its weightage in the 2 principle components. This is evident from the position of the 'scores' of genre of each app. PC2 captures more apps with higer 'scores'"
      ],
      "metadata": {
        "id": "Qzsi16WDSlwm"
      },
      "id": "Qzsi16WDSlwm"
    },
    {
      "cell_type": "markdown",
      "source": [
        "# Apriori Genre as the item\n",
        "Given that we have identified that not all genres have equal importance and contributions to the principal component, we want to explore how the genre affect installation for the apps who have more than 500000 installations."
      ],
      "metadata": {
        "id": "aDvtqJtrStzz"
      },
      "id": "aDvtqJtrStzz"
    },
    {
      "cell_type": "code",
      "source": [
        "df = filtered_df = df.filter(df['installs'] > 500000)"
      ],
      "metadata": {
        "id": "0gN3z5cdTLZh"
      },
      "id": "0gN3z5cdTLZh",
      "execution_count": 71,
      "outputs": []
    },
    {
      "cell_type": "markdown",
      "source": [
        "From the privious research we can see there are some combination in between Genre and the download volume, thus we subset those installation number more than 500000 as the \"high download group\" and use Apriori to see the associate rules."
      ],
      "metadata": {
        "id": "7NdluaeiTN7g"
      },
      "id": "7NdluaeiTN7g"
    },
    {
      "cell_type": "code",
      "source": [
        "from pyspark.sql.functions import split, explode, collect_list\n",
        "from mlxtend.frequent_patterns import apriori, association_rules\n",
        "\n",
        "df_apriori = df.select(\"App\", \"Genres\",'installs')\n",
        "df_apriori = df_apriori.dropna()\n",
        "df_apriori = df_apriori.withColumn(\"Genres\", split(\"Genres\", \";|&\")) # Split the Genres column by \";\" and \"&\"\n",
        "df_apriori = df_apriori.select(\"App\", explode(\"Genres\").alias(\"Genre\"))\n",
        "\n",
        "df_test = df_apriori.groupBy(df_apriori.App).agg(collect_list('Genre'))\n",
        "df_test.show()"
      ],
      "metadata": {
        "id": "WpGxic1ZTvcm",
        "colab": {
          "base_uri": "https://localhost:8080/"
        },
        "outputId": "db8698f4-7d8c-444f-d86c-8effe17478c2"
      },
      "id": "WpGxic1ZTvcm",
      "execution_count": 72,
      "outputs": [
        {
          "output_type": "stream",
          "name": "stdout",
          "text": [
            "+--------------------+--------------------+\n",
            "|                 App| collect_list(Genre)|\n",
            "+--------------------+--------------------+\n",
            "|\"Eat Fast Prepare...|     [Food ,  Drink]|\n",
            "|+Download 4 Insta...|            [Social]|\n",
            "|100 Doors of Revenge|            [Puzzle]|\n",
            "|104 Looking for a...|          [Business]|\n",
            "|                11st|          [Shopping]|\n",
            "|1800 Contacts - L...|  [Medical, Medical]|\n",
            "|1LINE – One Line ...|             [Board]|\n",
            "|2ndLine - Second ...|     [Communication]|\n",
            "|365Scores - Live ...|    [Sports, Sports]|\n",
            "|3D Blue Glass Wat...|   [Personalization]|\n",
            "|          3D Bowling|            [Sports]|\n",
            "|3D DJ – DJ Mixer ...|     [Entertainment]|\n",
            "|   3D Holograms Joke|        [Simulation]|\n",
            "|           3D Tennis|            [Sports]|\n",
            "|          4 in a row|             [Board]|\n",
            "|      4x4 Jeep Racer|            [Racing]|\n",
            "|50000 Free eBooks...|[Books ,  Reference]|\n",
            "|591 housing trans...|     [House ,  Home]|\n",
            "|7 Nights at Pixel...|         [Adventure]|\n",
            "|         8 Ball Pool|[Sports, Sports, ...|\n",
            "+--------------------+--------------------+\n",
            "only showing top 20 rows\n",
            "\n"
          ]
        }
      ]
    },
    {
      "cell_type": "markdown",
      "source": [
        "Get each genre to a singel value"
      ],
      "metadata": {
        "id": "ePvasd22UMeL"
      },
      "id": "ePvasd22UMeL"
    },
    {
      "cell_type": "code",
      "source": [
        "df_pivot = df_apriori.groupBy(\"App\").pivot(\"Genre\").agg({\"Genre\": \"count\"}).na.fill(0)\n",
        "\n",
        "def transform_row(row):\n",
        "    app_name = row['App']\n",
        "    category_indices = [index for index, value in enumerate(row[1:]) if value != 0]\n",
        "    return (app_name, category_indices)\n",
        "\n",
        "transformed_data = [transform_row(row) for row in df_pivot.collect()]\n",
        "\n",
        "new_df = spark.createDataFrame(transformed_data, [\"Apps\", \"Category_Indices\"])\n",
        "\n",
        "new_df.show()"
      ],
      "metadata": {
        "id": "4DTpiMZhUJeg",
        "colab": {
          "base_uri": "https://localhost:8080/"
        },
        "outputId": "14b03310-d825-4d4f-a982-abd4b337cb1f"
      },
      "id": "4DTpiMZhUJeg",
      "execution_count": 73,
      "outputs": [
        {
          "output_type": "stream",
          "name": "stderr",
          "text": [
            "/usr/local/lib/python3.10/dist-packages/ipykernel/ipkernel.py:283: DeprecationWarning: `should_run_async` will not call `transform_cell` automatically in the future. Please pass the result to `transformed_cell` argument and any exception that happen during thetransform in `preprocessing_exc_tuple` in IPython 7.17 and above.\n",
            "  and should_run_async(code)\n"
          ]
        },
        {
          "output_type": "stream",
          "name": "stdout",
          "text": [
            "+--------------------+----------------+\n",
            "|                Apps|Category_Indices|\n",
            "+--------------------+----------------+\n",
            "|Nigeria News NAIJ...|         [8, 45]|\n",
            "|    Basketball Stars|            [57]|\n",
            "|Mercari: The Sell...|            [54]|\n",
            "|THE KING OF FIGHT...|            [13]|\n",
            "|Zombie Death Shooter|            [16]|\n",
            "|         Life market|            [54]|\n",
            "|Where is my Train...|         [7, 60]|\n",
            "|         Galaxy Gift|            [40]|\n",
            "|  Moto Suggestions ™|            [59]|\n",
            "|      Bounce Classic|            [16]|\n",
            "|Six Pack Abs Phot...|            [48]|\n",
            "|     Candy Pop Story|        [22, 26]|\n",
            "|    Motocross Mayhem|            [52]|\n",
            "|  Classic Calculator|            [59]|\n",
            "|           Boomerang|    [12, 33, 44]|\n",
            "|No.Draw - Colors ...|        [22, 33]|\n",
            "| Subway Simulator 3D|            [55]|\n",
            "|WDAMAGE: Car Cras...|            [52]|\n",
            "|issuu - Read Maga...|         [8, 45]|\n",
            "|Collage&Add Stick...|            [48]|\n",
            "+--------------------+----------------+\n",
            "only showing top 20 rows\n",
            "\n"
          ]
        }
      ]
    },
    {
      "cell_type": "code",
      "source": [
        "from pyspark.ml.fpm import FPGrowth\n",
        "\n",
        "fpGrowth = FPGrowth(itemsCol=\"Category_Indices\", minSupport=0.0005, minConfidence=0.005)\n",
        "model = fpGrowth.fit(new_df)\n",
        "\n",
        "model.freqItemsets.show() # Display frequent itemsets\n",
        "model.associationRules.show() # Display generated association rules\n",
        "\n",
        "# transform examines the input items against all the association rules and summarize the\n",
        "# consequents as prediction\n",
        "model.transform(new_df).show()"
      ],
      "metadata": {
        "id": "IM_HnlEoUbYw",
        "colab": {
          "base_uri": "https://localhost:8080/"
        },
        "outputId": "0f80acfd-914b-4418-d275-e05c2029e961"
      },
      "id": "IM_HnlEoUbYw",
      "execution_count": 74,
      "outputs": [
        {
          "output_type": "stream",
          "name": "stderr",
          "text": [
            "/usr/local/lib/python3.10/dist-packages/ipykernel/ipkernel.py:283: DeprecationWarning: `should_run_async` will not call `transform_cell` automatically in the future. Please pass the result to `transformed_cell` argument and any exception that happen during thetransform in `preprocessing_exc_tuple` in IPython 7.17 and above.\n",
            "  and should_run_async(code)\n"
          ]
        },
        {
          "output_type": "stream",
          "name": "stdout",
          "text": [
            "+--------+----+\n",
            "|   items|freq|\n",
            "+--------+----+\n",
            "|    [49]|  38|\n",
            "|[49, 33]|   2|\n",
            "|[49, 26]|  17|\n",
            "|[49, 32]|   8|\n",
            "|[49, 53]|   3|\n",
            "|[49, 31]|   4|\n",
            "|    [11]|  13|\n",
            "|[11, 18]|  13|\n",
            "|    [55]|  93|\n",
            "|    [38]|  20|\n",
            "| [38, 6]|  20|\n",
            "|    [19]|   6|\n",
            "|    [60]|  54|\n",
            "|    [25]|  12|\n",
            "|    [36]|  30|\n",
            "|    [56]|  58|\n",
            "|    [33]| 129|\n",
            "|    [37]|  68|\n",
            "|    [29]|  16|\n",
            "|[29, 33]|   2|\n",
            "+--------+----+\n",
            "only showing top 20 rows\n",
            "\n",
            "+----------+----------+--------------------+------------------+--------------------+\n",
            "|antecedent|consequent|          confidence|              lift|             support|\n",
            "+----------+----------+--------------------+------------------+--------------------+\n",
            "|      [55]|      [14]| 0.07526881720430108| 3.177874977218881|0.002810116419108...|\n",
            "|      [55]|       [0]| 0.07526881720430108| 3.177874977218881|0.002810116419108...|\n",
            "|   [0, 16]|      [14]|                 1.0| 42.22033898305085|0.002810116419108...|\n",
            "|      [16]|      [14]| 0.06666666666666667|2.8146892655367233|0.002810116419108...|\n",
            "|      [16]|       [0]| 0.06666666666666667|2.8146892655367233|0.002810116419108...|\n",
            "|      [33]|      [49]|0.015503875968992248|1.0163198694410445|8.028904054596548E-4|\n",
            "|      [33]|      [29]|0.015503875968992248|2.4137596899224807|8.028904054596548E-4|\n",
            "|      [33]|      [44]| 0.05426356589147287|11.264211886304908|0.002810116419108...|\n",
            "|      [33]|      [14]|0.023255813953488372|0.9818683484430429|0.001204335608189...|\n",
            "|      [33]|      [22]|0.031007751937984496|2.4916229057264316|0.001605780810919...|\n",
            "|      [33]|      [12]| 0.05426356589147287|11.264211886304908|0.002810116419108...|\n",
            "|      [33]|       [0]|0.023255813953488372|0.9818683484430429|0.001204335608189...|\n",
            "|  [15, 14]|       [0]|                 1.0| 42.22033898305085|0.001204335608189...|\n",
            "|  [44, 12]|      [33]|  0.5833333333333334| 11.26421188630491|0.002810116419108...|\n",
            "|  [14, 13]|       [0]|                 1.0| 42.22033898305085|0.003211561621838619|\n",
            "|      [51]|       [0]|0.034482758620689655|1.4558737580362362|8.028904054596548E-4|\n",
            "|      [51]|      [14]|0.034482758620689655|1.4558737580362362|8.028904054596548E-4|\n",
            "|      [51]|      [22]|  0.1724137931034483| 13.85428253615128|0.004014452027298274|\n",
            "|      [13]|      [14]|0.046242774566473986|1.9523856177133339|0.003211561621838619|\n",
            "|      [13]|       [0]|0.046242774566473986|1.9523856177133339|0.003211561621838619|\n",
            "+----------+----------+--------------------+------------------+--------------------+\n",
            "only showing top 20 rows\n",
            "\n",
            "+--------------------+----------------+--------------------+\n",
            "|                Apps|Category_Indices|          prediction|\n",
            "+--------------------+----------------+--------------------+\n",
            "|Nigeria News NAIJ...|         [8, 45]|                  []|\n",
            "|    Basketball Stars|            [57]|                  []|\n",
            "|Mercari: The Sell...|            [54]|                  []|\n",
            "|THE KING OF FIGHT...|            [13]|             [14, 0]|\n",
            "|Zombie Death Shooter|            [16]|             [14, 0]|\n",
            "|         Life market|            [54]|                  []|\n",
            "|Where is my Train...|         [7, 60]|                  []|\n",
            "|         Galaxy Gift|            [40]|                  []|\n",
            "|  Moto Suggestions ™|            [59]|                  []|\n",
            "|      Bounce Classic|            [16]|             [14, 0]|\n",
            "|Six Pack Abs Phot...|            [48]|                  []|\n",
            "|     Candy Pop Story|        [22, 26]|[49, 29, 14, 31, ...|\n",
            "|    Motocross Mayhem|            [52]|             [14, 0]|\n",
            "|  Classic Calculator|            [59]|                  []|\n",
            "|           Boomerang|    [12, 33, 44]| [49, 29, 14, 22, 0]|\n",
            "|No.Draw - Colors ...|        [22, 33]|[49, 29, 44, 14, ...|\n",
            "| Subway Simulator 3D|            [55]|             [14, 0]|\n",
            "|WDAMAGE: Car Cras...|            [52]|             [14, 0]|\n",
            "|issuu - Read Maga...|         [8, 45]|                  []|\n",
            "|Collage&Add Stick...|            [48]|                  []|\n",
            "+--------------------+----------------+--------------------+\n",
            "only showing top 20 rows\n",
            "\n"
          ]
        }
      ]
    },
    {
      "cell_type": "code",
      "source": [
        "from pyspark.sql.functions import desc\n",
        "sorted_df = model.associationRules.sort(desc(\"confidence\"))#,desc(\"support\"))\n",
        "sorted_df.show()"
      ],
      "metadata": {
        "id": "aY2YfmynUmK-",
        "colab": {
          "base_uri": "https://localhost:8080/"
        },
        "outputId": "4474754d-ca76-43a2-9a2e-b4f57a8bd860"
      },
      "id": "aY2YfmynUmK-",
      "execution_count": 75,
      "outputs": [
        {
          "output_type": "stream",
          "name": "stderr",
          "text": [
            "/usr/local/lib/python3.10/dist-packages/ipykernel/ipkernel.py:283: DeprecationWarning: `should_run_async` will not call `transform_cell` automatically in the future. Please pass the result to `transformed_cell` argument and any exception that happen during thetransform in `preprocessing_exc_tuple` in IPython 7.17 and above.\n",
            "  and should_run_async(code)\n"
          ]
        },
        {
          "output_type": "stream",
          "name": "stdout",
          "text": [
            "+----------+----------+----------+------------------+--------------------+\n",
            "|antecedent|consequent|confidence|              lift|             support|\n",
            "+----------+----------+----------+------------------+--------------------+\n",
            "|   [0, 16]|      [14]|       1.0| 42.22033898305085|0.002810116419108...|\n",
            "|       [0]|      [14]|       1.0| 42.22033898305085|0.023685266961059815|\n",
            "|  [15, 14]|       [0]|       1.0| 42.22033898305085|0.001204335608189...|\n",
            "|   [53, 0]|      [14]|       1.0| 42.22033898305085|8.028904054596548E-4|\n",
            "|  [14, 13]|       [0]|       1.0| 42.22033898305085|0.003211561621838619|\n",
            "|  [14, 33]|       [0]|       1.0| 42.22033898305085|0.001204335608189...|\n",
            "|      [36]|       [3]|       1.0| 83.03333333333333| 0.01204335608189482|\n",
            "|       [6]|      [38]|       1.0|            124.55|0.008028904054596548|\n",
            "|   [51, 0]|      [14]|       1.0| 42.22033898305085|8.028904054596548E-4|\n",
            "|      [62]|       [4]|       1.0| 44.48214285714286|0.022480931352870333|\n",
            "|      [18]|      [11]|       1.0| 191.6153846153846|0.005218787635487756|\n",
            "|  [44, 33]|      [12]|       1.0|207.58333333333331|0.002810116419108...|\n",
            "|      [41]|       [9]|       1.0| 71.17142857142856|0.014050582095543959|\n",
            "|      [12]|      [44]|       1.0|207.58333333333331|0.004817342432757929|\n",
            "|      [21]|      [10]|       1.0| 80.35483870967742|0.012444801284624649|\n",
            "|       [1]|      [39]|       1.0|207.58333333333331|0.004817342432757929|\n",
            "|      [60]|       [7]|       1.0| 46.12962962962963|0.021678040947410677|\n",
            "|      [17]|       [2]|       1.0|             249.1|0.004014452027298274|\n",
            "|  [32, 14]|       [0]|       1.0| 42.22033898305085|8.028904054596548E-4|\n",
            "|   [24, 0]|      [14]|       1.0| 42.22033898305085|8.028904054596548E-4|\n",
            "+----------+----------+----------+------------------+--------------------+\n",
            "only showing top 20 rows\n",
            "\n"
          ]
        }
      ]
    },
    {
      "cell_type": "code",
      "source": [],
      "metadata": {
        "id": "fYJluvUXOyoR",
        "outputId": "e5cadbb7-54cf-410a-b220-68a52ca51bfd",
        "colab": {
          "base_uri": "https://localhost:8080/"
        }
      },
      "id": "fYJluvUXOyoR",
      "execution_count": 75,
      "outputs": [
        {
          "output_type": "stream",
          "name": "stderr",
          "text": [
            "/usr/local/lib/python3.10/dist-packages/ipykernel/ipkernel.py:283: DeprecationWarning: `should_run_async` will not call `transform_cell` automatically in the future. Please pass the result to `transformed_cell` argument and any exception that happen during thetransform in `preprocessing_exc_tuple` in IPython 7.17 and above.\n",
            "  and should_run_async(code)\n"
          ]
        }
      ]
    }
  ],
  "metadata": {
    "colab": {
      "provenance": [],
      "toc_visible": true
    },
    "kernelspec": {
      "display_name": "Python 3 (ipykernel)",
      "language": "python",
      "name": "python3"
    },
    "language_info": {
      "codemirror_mode": {
        "name": "ipython",
        "version": 3
      },
      "file_extension": ".py",
      "mimetype": "text/x-python",
      "name": "python",
      "nbconvert_exporter": "python",
      "pygments_lexer": "ipython3",
      "version": "3.9.13"
    }
  },
  "nbformat": 4,
  "nbformat_minor": 5
}